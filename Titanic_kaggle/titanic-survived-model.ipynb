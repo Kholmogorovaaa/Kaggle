{
 "cells": [
  {
   "cell_type": "markdown",
   "id": "ebcafe7c",
   "metadata": {
    "papermill": {
     "duration": 0.014416,
     "end_time": "2023-01-22T10:37:33.203916",
     "exception": false,
     "start_time": "2023-01-22T10:37:33.189500",
     "status": "completed"
    },
    "tags": []
   },
   "source": [
    "# <p style=\"background-color:#641216; font-family:Nexa; color:#e8f8f5; font-size:150%; text-align:center; border: 2.5px; border-style:solid; border-color:#210400; border-radius: 35px 35px;\">Titanic. Survived model.</p>\n",
    "\n",
    "<img src='https://askeyphysics.files.wordpress.com/2018/05/fullsizeoutput_50fc.jpeg' width=\"500\" height=\"350\">\n",
    "\n",
    "## <p style=\"background-color:#641216; font-family:Nexa; color:#e8f8f5; font-size:150%; text-align:center; border: 2.5px; border-style:solid; border-color:#210400; border-radius: 25px 5px;\">Table of Contents</p>\n",
    "\n",
    "[1. Loading and reading data](#1.-Loading-and-reading-data)  \n",
    "[2. EDA](#2.-EDA)  \n",
    "[3. Datasets creation](#3.-Datasets-creation)  \n",
    "[4. Selection of hyperparameters](#4.-Selection-of-hyperparameters)  \n",
    "* [4.1. Catboost](#4.1.-Catboost)  \n",
    "* [4.2. LGBM](#4.2.-LGBM)  \n",
    "* [4.3. RandomForest](#4.3.-RandomForest) \n",
    "* [4.4. Ensemble](#4.4.-Ensemble)   \n",
    "\n",
    "[5. Best Model Submission](#5.-Best-Model-Submission)"
   ]
  },
  {
   "cell_type": "markdown",
   "id": "0a688783",
   "metadata": {
    "papermill": {
     "duration": 0.014079,
     "end_time": "2023-01-22T10:37:33.230757",
     "exception": false,
     "start_time": "2023-01-22T10:37:33.216678",
     "status": "completed"
    },
    "tags": []
   },
   "source": [
    "## <p style=\"background-color:#641216; font-family:Nexa; color:#e8f8f5; font-size:150%; text-align:center; border: 2.5px; border-style:solid; border-color:#210400; border-radius: 25px 5px;\">1. Loading and reading data</p>"
   ]
  },
  {
   "cell_type": "code",
   "execution_count": 1,
   "id": "dcaa9bd6",
   "metadata": {
    "execution": {
     "iopub.execute_input": "2023-01-22T10:37:33.258795Z",
     "iopub.status.busy": "2023-01-22T10:37:33.257850Z",
     "iopub.status.idle": "2023-01-22T10:37:33.272276Z",
     "shell.execute_reply": "2023-01-22T10:37:33.271026Z"
    },
    "papermill": {
     "duration": 0.031218,
     "end_time": "2023-01-22T10:37:33.274685",
     "exception": false,
     "start_time": "2023-01-22T10:37:33.243467",
     "status": "completed"
    },
    "tags": []
   },
   "outputs": [
    {
     "name": "stdout",
     "output_type": "stream",
     "text": [
      "/kaggle/input/titanic/train.csv\n",
      "/kaggle/input/titanic/test.csv\n",
      "/kaggle/input/titanic/gender_submission.csv\n"
     ]
    }
   ],
   "source": [
    "import os\n",
    "for dirname, _, filenames in os.walk('/kaggle/input'):\n",
    "    for filename in filenames:\n",
    "        print(os.path.join(dirname, filename))"
   ]
  },
  {
   "cell_type": "code",
   "execution_count": 2,
   "id": "1e3aa09c",
   "metadata": {
    "execution": {
     "iopub.execute_input": "2023-01-22T10:37:33.302351Z",
     "iopub.status.busy": "2023-01-22T10:37:33.301691Z",
     "iopub.status.idle": "2023-01-22T10:37:48.118043Z",
     "shell.execute_reply": "2023-01-22T10:37:48.116346Z"
    },
    "papermill": {
     "duration": 14.834028,
     "end_time": "2023-01-22T10:37:48.121680",
     "exception": false,
     "start_time": "2023-01-22T10:37:33.287652",
     "status": "completed"
    },
    "tags": []
   },
   "outputs": [
    {
     "name": "stdout",
     "output_type": "stream",
     "text": [
      "Collecting feature_engine\r\n",
      "  Downloading feature_engine-1.4.0-py2.py3-none-any.whl (276 kB)\r\n",
      "\u001b[2K     \u001b[90m━━━━━━━━━━━━━━━━━━━━━━━━━━━━━━━━━━━━━\u001b[0m \u001b[32m276.4/276.4 kB\u001b[0m \u001b[31m506.8 kB/s\u001b[0m eta \u001b[36m0:00:00\u001b[0m\r\n",
      "\u001b[?25hRequirement already satisfied: statsmodels>=0.11.1 in /opt/conda/lib/python3.7/site-packages (from feature_engine) (0.13.2)\r\n",
      "Requirement already satisfied: scipy>=1.4.1 in /opt/conda/lib/python3.7/site-packages (from feature_engine) (1.7.3)\r\n",
      "Requirement already satisfied: numpy>=1.18.2 in /opt/conda/lib/python3.7/site-packages (from feature_engine) (1.21.6)\r\n",
      "Requirement already satisfied: pandas>=1.0.3 in /opt/conda/lib/python3.7/site-packages (from feature_engine) (1.3.5)\r\n",
      "Requirement already satisfied: scikit-learn>=1.0.0 in /opt/conda/lib/python3.7/site-packages (from feature_engine) (1.0.2)\r\n",
      "Requirement already satisfied: python-dateutil>=2.7.3 in /opt/conda/lib/python3.7/site-packages (from pandas>=1.0.3->feature_engine) (2.8.2)\r\n",
      "Requirement already satisfied: pytz>=2017.3 in /opt/conda/lib/python3.7/site-packages (from pandas>=1.0.3->feature_engine) (2022.1)\r\n",
      "Requirement already satisfied: threadpoolctl>=2.0.0 in /opt/conda/lib/python3.7/site-packages (from scikit-learn>=1.0.0->feature_engine) (3.1.0)\r\n",
      "Requirement already satisfied: joblib>=0.11 in /opt/conda/lib/python3.7/site-packages (from scikit-learn>=1.0.0->feature_engine) (1.0.1)\r\n",
      "Requirement already satisfied: packaging>=21.3 in /opt/conda/lib/python3.7/site-packages (from statsmodels>=0.11.1->feature_engine) (22.0)\r\n",
      "Requirement already satisfied: patsy>=0.5.2 in /opt/conda/lib/python3.7/site-packages (from statsmodels>=0.11.1->feature_engine) (0.5.2)\r\n",
      "Requirement already satisfied: six in /opt/conda/lib/python3.7/site-packages (from patsy>=0.5.2->statsmodels>=0.11.1->feature_engine) (1.15.0)\r\n",
      "Installing collected packages: feature_engine\r\n",
      "Successfully installed feature_engine-1.4.0\r\n",
      "\u001b[33mWARNING: Running pip as the 'root' user can result in broken permissions and conflicting behaviour with the system package manager. It is recommended to use a virtual environment instead: https://pip.pypa.io/warnings/venv\u001b[0m\u001b[33m\r\n",
      "\u001b[0m"
     ]
    }
   ],
   "source": [
    "!pip install feature_engine"
   ]
  },
  {
   "cell_type": "code",
   "execution_count": 3,
   "id": "a9ab0b99",
   "metadata": {
    "execution": {
     "iopub.execute_input": "2023-01-22T10:37:48.157692Z",
     "iopub.status.busy": "2023-01-22T10:37:48.157244Z",
     "iopub.status.idle": "2023-01-22T10:37:51.708415Z",
     "shell.execute_reply": "2023-01-22T10:37:51.707278Z"
    },
    "papermill": {
     "duration": 3.570786,
     "end_time": "2023-01-22T10:37:51.711552",
     "exception": false,
     "start_time": "2023-01-22T10:37:48.140766",
     "status": "completed"
    },
    "tags": []
   },
   "outputs": [
    {
     "data": {
      "text/html": [
       "<style type='text/css'>\n",
       ".datatable table.frame { margin-bottom: 0; }\n",
       ".datatable table.frame thead { border-bottom: none; }\n",
       ".datatable table.frame tr.coltypes td {  color: #FFFFFF;  line-height: 6px;  padding: 0 0.5em;}\n",
       ".datatable .bool    { background: #DDDD99; }\n",
       ".datatable .object  { background: #565656; }\n",
       ".datatable .int     { background: #5D9E5D; }\n",
       ".datatable .float   { background: #4040CC; }\n",
       ".datatable .str     { background: #CC4040; }\n",
       ".datatable .time    { background: #40CC40; }\n",
       ".datatable .row_index {  background: var(--jp-border-color3);  border-right: 1px solid var(--jp-border-color0);  color: var(--jp-ui-font-color3);  font-size: 9px;}\n",
       ".datatable .frame tbody td { text-align: left; }\n",
       ".datatable .frame tr.coltypes .row_index {  background: var(--jp-border-color0);}\n",
       ".datatable th:nth-child(2) { padding-left: 12px; }\n",
       ".datatable .hellipsis {  color: var(--jp-cell-editor-border-color);}\n",
       ".datatable .vellipsis {  background: var(--jp-layout-color0);  color: var(--jp-cell-editor-border-color);}\n",
       ".datatable .na {  color: var(--jp-cell-editor-border-color);  font-size: 80%;}\n",
       ".datatable .sp {  opacity: 0.25;}\n",
       ".datatable .footer { font-size: 9px; }\n",
       ".datatable .frame_dimensions {  background: var(--jp-border-color3);  border-top: 1px solid var(--jp-border-color0);  color: var(--jp-ui-font-color3);  display: inline-block;  opacity: 0.6;  padding: 1px 10px 1px 5px;}\n",
       "</style>\n"
      ],
      "text/plain": [
       "<IPython.core.display.HTML object>"
      ]
     },
     "metadata": {},
     "output_type": "display_data"
    }
   ],
   "source": [
    "import pandas as pd\n",
    "import numpy as np\n",
    "\n",
    "import seaborn as sns\n",
    "import matplotlib.pyplot as plt\n",
    "import plotly.express as px\n",
    "import plotly.graph_objects as go\n",
    "\n",
    "import phik\n",
    "from phik.report import plot_correlation_matrix\n",
    "from phik import report\n",
    "from feature_engine.encoding import WoEEncoder\n",
    "\n",
    "from sklearn.base import clone\n",
    "from sklearn.feature_selection import mutual_info_classif\n",
    "from sklearn.model_selection import train_test_split\n",
    "from sklearn.preprocessing import StandardScaler, OrdinalEncoder, OneHotEncoder, FunctionTransformer\n",
    "from sklearn.compose import ColumnTransformer\n",
    "from sklearn.pipeline import Pipeline\n",
    "from catboost import CatBoostClassifier, Pool\n",
    "from lightgbm import LGBMClassifier\n",
    "from sklearn.ensemble import RandomForestClassifier\n",
    "from sklearn.metrics import roc_auc_score, f1_score, r2_score, accuracy_score, precision_score,roc_curve\n",
    "from sklearn.model_selection import GridSearchCV, RandomizedSearchCV, ShuffleSplit\n",
    "from sklearn.cluster import KMeans\n",
    "\n",
    "pd.set_option('display.max_columns', None)\n",
    "pd.set_option('display.max_rows', 150)\n",
    "\n",
    "import warnings\n",
    "warnings.filterwarnings('ignore')\n",
    "\n",
    "random_state = 202301\n",
    "palitra = dict(blue='#1d7990', indigo='#032733', bardo='#641216')"
   ]
  },
  {
   "cell_type": "code",
   "execution_count": 4,
   "id": "3c240b41",
   "metadata": {
    "execution": {
     "iopub.execute_input": "2023-01-22T10:37:51.743444Z",
     "iopub.status.busy": "2023-01-22T10:37:51.742188Z",
     "iopub.status.idle": "2023-01-22T10:37:51.761717Z",
     "shell.execute_reply": "2023-01-22T10:37:51.760223Z"
    },
    "papermill": {
     "duration": 0.038429,
     "end_time": "2023-01-22T10:37:51.764598",
     "exception": false,
     "start_time": "2023-01-22T10:37:51.726169",
     "status": "completed"
    },
    "tags": []
   },
   "outputs": [],
   "source": [
    "# функции\n",
    "# функция для изучения данных\n",
    "def def_info(df):\n",
    "    print('Размер таблицы:', df.shape)\n",
    "    print('____________________________________')\n",
    "    print()\n",
    "    print('Общая информация')\n",
    "    print(df.info())\n",
    "    print('____________________________________')\n",
    "    print()\n",
    "    print('Вывод 5и первых строк')\n",
    "    display(df.head())\n",
    "    print('____________________________________')\n",
    "    print()\n",
    "    print('Доля пропусков в таблице:')\n",
    "    print(df.isna().mean())\n",
    "    print('____________________________________')\n",
    "    print()\n",
    "    print('Доля явных дублей в данных:', df.duplicated().mean())\n",
    "    print('____________________________________')\n",
    "    print() \n",
    "    print('Информация по полям')\n",
    "    display(df.describe(include='object').T)\n",
    "    display(df.describe().T)\n",
    "\n",
    "# функция для изучения выбросов и аномалий в данных\n",
    "def boxplot_make(df, column):\n",
    "    _, [axs_hist, axs_box] = plt.subplots(2, 1, figsize=(10, 4), \n",
    "                                         sharex=True,\n",
    "                                         gridspec_kw=dict(height_ratios=[4,.8]))\n",
    "    hist = sns.histplot(data=df, x=column, kde=True, ax=axs_hist, color=palitra['indigo'])\n",
    "    box = sns.boxplot(data=df, x=column, orient='h', ax=axs_box, color=palitra['blue'])\n",
    "    hist.set(title='Гистограмма распределения',\n",
    "             ylabel='Количество записей');\n",
    "    \n",
    "# функция для изучения распределения данных по целевому признаку\n",
    "def result_table(data, column, target):\n",
    "    table = (data.groupby(column)[target].agg(['sum', 'count'])\n",
    "    .assign(share = lambda x: x['sum'] / x['count'])\n",
    "    ).sort_values(by='share', ascending=False).style.background_gradient(low=0.1, cmap='YlOrBr')\n",
    "    return table\n",
    "\n",
    "def roc_curve_make(y_true, y_pred):\n",
    "    fpr, tpr, thresholds = roc_curve(y_true, y_pred)\n",
    "    plt.figure(figsize=(8, 8))\n",
    "    plt.plot(fpr, tpr, linestyle='-', color=palitra['blue'])\n",
    "    plt.plot([0, 1], [0, 1], linestyle='--', color=palitra['bardo'])\n",
    "    plt.xlim([0.0, 1.0])\n",
    "    plt.ylim([0.0, 1.0])\n",
    "    plt.xlabel('False Positive Rate')\n",
    "    plt.ylabel('True Positive Rate')\n",
    "    plt.title('ROC-кривая')\n",
    "    plt.show()\n",
    "    print(\"ROC-AUC:\", roc_auc_score(y_true, y_pred))\n",
    "    \n",
    "def make_plot_distribution(df, col, target):\n",
    "    fig = px.histogram(train, x=col, color=target,\n",
    "                       marginal='box',opacity=0.8,nbins=100,\n",
    "                       barmode='group',histfunc='count', color_discrete_sequence=[palitra['blue'], palitra['bardo']])\n",
    "\n",
    "    fig.update_layout(font_family='Arial',\n",
    "                      title=dict(text=f'Distribution of {col} according to {target} variable',x=0.53,y=0.95),\n",
    "                      xaxis_title_text=col,\n",
    "                      yaxis_title_text='Count',\n",
    "                      bargap=0.3)\n",
    "    fig.show()"
   ]
  },
  {
   "cell_type": "code",
   "execution_count": 5,
   "id": "441c580e",
   "metadata": {
    "execution": {
     "iopub.execute_input": "2023-01-22T10:37:51.796124Z",
     "iopub.status.busy": "2023-01-22T10:37:51.795356Z",
     "iopub.status.idle": "2023-01-22T10:37:51.838827Z",
     "shell.execute_reply": "2023-01-22T10:37:51.837933Z"
    },
    "papermill": {
     "duration": 0.062275,
     "end_time": "2023-01-22T10:37:51.841377",
     "exception": false,
     "start_time": "2023-01-22T10:37:51.779102",
     "status": "completed"
    },
    "tags": []
   },
   "outputs": [],
   "source": [
    "# загрузка данных\n",
    "train = pd.read_csv('/kaggle/input/titanic/train.csv', index_col='PassengerId')\n",
    "test = pd.read_csv('/kaggle/input/titanic/test.csv', index_col='PassengerId')\n",
    "submission = pd.read_csv('/kaggle/input/titanic/gender_submission.csv')"
   ]
  },
  {
   "cell_type": "code",
   "execution_count": 6,
   "id": "1f95fe40",
   "metadata": {
    "execution": {
     "iopub.execute_input": "2023-01-22T10:37:51.872293Z",
     "iopub.status.busy": "2023-01-22T10:37:51.871643Z",
     "iopub.status.idle": "2023-01-22T10:37:51.956774Z",
     "shell.execute_reply": "2023-01-22T10:37:51.955644Z"
    },
    "papermill": {
     "duration": 0.103131,
     "end_time": "2023-01-22T10:37:51.959094",
     "exception": false,
     "start_time": "2023-01-22T10:37:51.855963",
     "status": "completed"
    },
    "tags": []
   },
   "outputs": [
    {
     "name": "stdout",
     "output_type": "stream",
     "text": [
      "Размер таблицы: (891, 11)\n",
      "____________________________________\n",
      "\n",
      "Общая информация\n",
      "<class 'pandas.core.frame.DataFrame'>\n",
      "Int64Index: 891 entries, 1 to 891\n",
      "Data columns (total 11 columns):\n",
      " #   Column    Non-Null Count  Dtype  \n",
      "---  ------    --------------  -----  \n",
      " 0   Survived  891 non-null    int64  \n",
      " 1   Pclass    891 non-null    int64  \n",
      " 2   Name      891 non-null    object \n",
      " 3   Sex       891 non-null    object \n",
      " 4   Age       714 non-null    float64\n",
      " 5   SibSp     891 non-null    int64  \n",
      " 6   Parch     891 non-null    int64  \n",
      " 7   Ticket    891 non-null    object \n",
      " 8   Fare      891 non-null    float64\n",
      " 9   Cabin     204 non-null    object \n",
      " 10  Embarked  889 non-null    object \n",
      "dtypes: float64(2), int64(4), object(5)\n",
      "memory usage: 83.5+ KB\n",
      "None\n",
      "____________________________________\n",
      "\n",
      "Вывод 5и первых строк\n"
     ]
    },
    {
     "data": {
      "text/html": [
       "<div>\n",
       "<style scoped>\n",
       "    .dataframe tbody tr th:only-of-type {\n",
       "        vertical-align: middle;\n",
       "    }\n",
       "\n",
       "    .dataframe tbody tr th {\n",
       "        vertical-align: top;\n",
       "    }\n",
       "\n",
       "    .dataframe thead th {\n",
       "        text-align: right;\n",
       "    }\n",
       "</style>\n",
       "<table border=\"1\" class=\"dataframe\">\n",
       "  <thead>\n",
       "    <tr style=\"text-align: right;\">\n",
       "      <th></th>\n",
       "      <th>Survived</th>\n",
       "      <th>Pclass</th>\n",
       "      <th>Name</th>\n",
       "      <th>Sex</th>\n",
       "      <th>Age</th>\n",
       "      <th>SibSp</th>\n",
       "      <th>Parch</th>\n",
       "      <th>Ticket</th>\n",
       "      <th>Fare</th>\n",
       "      <th>Cabin</th>\n",
       "      <th>Embarked</th>\n",
       "    </tr>\n",
       "    <tr>\n",
       "      <th>PassengerId</th>\n",
       "      <th></th>\n",
       "      <th></th>\n",
       "      <th></th>\n",
       "      <th></th>\n",
       "      <th></th>\n",
       "      <th></th>\n",
       "      <th></th>\n",
       "      <th></th>\n",
       "      <th></th>\n",
       "      <th></th>\n",
       "      <th></th>\n",
       "    </tr>\n",
       "  </thead>\n",
       "  <tbody>\n",
       "    <tr>\n",
       "      <th>1</th>\n",
       "      <td>0</td>\n",
       "      <td>3</td>\n",
       "      <td>Braund, Mr. Owen Harris</td>\n",
       "      <td>male</td>\n",
       "      <td>22.0</td>\n",
       "      <td>1</td>\n",
       "      <td>0</td>\n",
       "      <td>A/5 21171</td>\n",
       "      <td>7.2500</td>\n",
       "      <td>NaN</td>\n",
       "      <td>S</td>\n",
       "    </tr>\n",
       "    <tr>\n",
       "      <th>2</th>\n",
       "      <td>1</td>\n",
       "      <td>1</td>\n",
       "      <td>Cumings, Mrs. John Bradley (Florence Briggs Th...</td>\n",
       "      <td>female</td>\n",
       "      <td>38.0</td>\n",
       "      <td>1</td>\n",
       "      <td>0</td>\n",
       "      <td>PC 17599</td>\n",
       "      <td>71.2833</td>\n",
       "      <td>C85</td>\n",
       "      <td>C</td>\n",
       "    </tr>\n",
       "    <tr>\n",
       "      <th>3</th>\n",
       "      <td>1</td>\n",
       "      <td>3</td>\n",
       "      <td>Heikkinen, Miss. Laina</td>\n",
       "      <td>female</td>\n",
       "      <td>26.0</td>\n",
       "      <td>0</td>\n",
       "      <td>0</td>\n",
       "      <td>STON/O2. 3101282</td>\n",
       "      <td>7.9250</td>\n",
       "      <td>NaN</td>\n",
       "      <td>S</td>\n",
       "    </tr>\n",
       "    <tr>\n",
       "      <th>4</th>\n",
       "      <td>1</td>\n",
       "      <td>1</td>\n",
       "      <td>Futrelle, Mrs. Jacques Heath (Lily May Peel)</td>\n",
       "      <td>female</td>\n",
       "      <td>35.0</td>\n",
       "      <td>1</td>\n",
       "      <td>0</td>\n",
       "      <td>113803</td>\n",
       "      <td>53.1000</td>\n",
       "      <td>C123</td>\n",
       "      <td>S</td>\n",
       "    </tr>\n",
       "    <tr>\n",
       "      <th>5</th>\n",
       "      <td>0</td>\n",
       "      <td>3</td>\n",
       "      <td>Allen, Mr. William Henry</td>\n",
       "      <td>male</td>\n",
       "      <td>35.0</td>\n",
       "      <td>0</td>\n",
       "      <td>0</td>\n",
       "      <td>373450</td>\n",
       "      <td>8.0500</td>\n",
       "      <td>NaN</td>\n",
       "      <td>S</td>\n",
       "    </tr>\n",
       "  </tbody>\n",
       "</table>\n",
       "</div>"
      ],
      "text/plain": [
       "             Survived  Pclass  \\\n",
       "PassengerId                     \n",
       "1                   0       3   \n",
       "2                   1       1   \n",
       "3                   1       3   \n",
       "4                   1       1   \n",
       "5                   0       3   \n",
       "\n",
       "                                                          Name     Sex   Age  \\\n",
       "PassengerId                                                                    \n",
       "1                                      Braund, Mr. Owen Harris    male  22.0   \n",
       "2            Cumings, Mrs. John Bradley (Florence Briggs Th...  female  38.0   \n",
       "3                                       Heikkinen, Miss. Laina  female  26.0   \n",
       "4                 Futrelle, Mrs. Jacques Heath (Lily May Peel)  female  35.0   \n",
       "5                                     Allen, Mr. William Henry    male  35.0   \n",
       "\n",
       "             SibSp  Parch            Ticket     Fare Cabin Embarked  \n",
       "PassengerId                                                          \n",
       "1                1      0         A/5 21171   7.2500   NaN        S  \n",
       "2                1      0          PC 17599  71.2833   C85        C  \n",
       "3                0      0  STON/O2. 3101282   7.9250   NaN        S  \n",
       "4                1      0            113803  53.1000  C123        S  \n",
       "5                0      0            373450   8.0500   NaN        S  "
      ]
     },
     "metadata": {},
     "output_type": "display_data"
    },
    {
     "name": "stdout",
     "output_type": "stream",
     "text": [
      "____________________________________\n",
      "\n",
      "Доля пропусков в таблице:\n",
      "Survived    0.000000\n",
      "Pclass      0.000000\n",
      "Name        0.000000\n",
      "Sex         0.000000\n",
      "Age         0.198653\n",
      "SibSp       0.000000\n",
      "Parch       0.000000\n",
      "Ticket      0.000000\n",
      "Fare        0.000000\n",
      "Cabin       0.771044\n",
      "Embarked    0.002245\n",
      "dtype: float64\n",
      "____________________________________\n",
      "\n",
      "Доля явных дублей в данных: 0.0\n",
      "____________________________________\n",
      "\n",
      "Информация по полям\n"
     ]
    },
    {
     "data": {
      "text/html": [
       "<div>\n",
       "<style scoped>\n",
       "    .dataframe tbody tr th:only-of-type {\n",
       "        vertical-align: middle;\n",
       "    }\n",
       "\n",
       "    .dataframe tbody tr th {\n",
       "        vertical-align: top;\n",
       "    }\n",
       "\n",
       "    .dataframe thead th {\n",
       "        text-align: right;\n",
       "    }\n",
       "</style>\n",
       "<table border=\"1\" class=\"dataframe\">\n",
       "  <thead>\n",
       "    <tr style=\"text-align: right;\">\n",
       "      <th></th>\n",
       "      <th>count</th>\n",
       "      <th>unique</th>\n",
       "      <th>top</th>\n",
       "      <th>freq</th>\n",
       "    </tr>\n",
       "  </thead>\n",
       "  <tbody>\n",
       "    <tr>\n",
       "      <th>Name</th>\n",
       "      <td>891</td>\n",
       "      <td>891</td>\n",
       "      <td>Braund, Mr. Owen Harris</td>\n",
       "      <td>1</td>\n",
       "    </tr>\n",
       "    <tr>\n",
       "      <th>Sex</th>\n",
       "      <td>891</td>\n",
       "      <td>2</td>\n",
       "      <td>male</td>\n",
       "      <td>577</td>\n",
       "    </tr>\n",
       "    <tr>\n",
       "      <th>Ticket</th>\n",
       "      <td>891</td>\n",
       "      <td>681</td>\n",
       "      <td>347082</td>\n",
       "      <td>7</td>\n",
       "    </tr>\n",
       "    <tr>\n",
       "      <th>Cabin</th>\n",
       "      <td>204</td>\n",
       "      <td>147</td>\n",
       "      <td>B96 B98</td>\n",
       "      <td>4</td>\n",
       "    </tr>\n",
       "    <tr>\n",
       "      <th>Embarked</th>\n",
       "      <td>889</td>\n",
       "      <td>3</td>\n",
       "      <td>S</td>\n",
       "      <td>644</td>\n",
       "    </tr>\n",
       "  </tbody>\n",
       "</table>\n",
       "</div>"
      ],
      "text/plain": [
       "         count unique                      top freq\n",
       "Name       891    891  Braund, Mr. Owen Harris    1\n",
       "Sex        891      2                     male  577\n",
       "Ticket     891    681                   347082    7\n",
       "Cabin      204    147                  B96 B98    4\n",
       "Embarked   889      3                        S  644"
      ]
     },
     "metadata": {},
     "output_type": "display_data"
    },
    {
     "data": {
      "text/html": [
       "<div>\n",
       "<style scoped>\n",
       "    .dataframe tbody tr th:only-of-type {\n",
       "        vertical-align: middle;\n",
       "    }\n",
       "\n",
       "    .dataframe tbody tr th {\n",
       "        vertical-align: top;\n",
       "    }\n",
       "\n",
       "    .dataframe thead th {\n",
       "        text-align: right;\n",
       "    }\n",
       "</style>\n",
       "<table border=\"1\" class=\"dataframe\">\n",
       "  <thead>\n",
       "    <tr style=\"text-align: right;\">\n",
       "      <th></th>\n",
       "      <th>count</th>\n",
       "      <th>mean</th>\n",
       "      <th>std</th>\n",
       "      <th>min</th>\n",
       "      <th>25%</th>\n",
       "      <th>50%</th>\n",
       "      <th>75%</th>\n",
       "      <th>max</th>\n",
       "    </tr>\n",
       "  </thead>\n",
       "  <tbody>\n",
       "    <tr>\n",
       "      <th>Survived</th>\n",
       "      <td>891.0</td>\n",
       "      <td>0.383838</td>\n",
       "      <td>0.486592</td>\n",
       "      <td>0.00</td>\n",
       "      <td>0.0000</td>\n",
       "      <td>0.0000</td>\n",
       "      <td>1.0</td>\n",
       "      <td>1.0000</td>\n",
       "    </tr>\n",
       "    <tr>\n",
       "      <th>Pclass</th>\n",
       "      <td>891.0</td>\n",
       "      <td>2.308642</td>\n",
       "      <td>0.836071</td>\n",
       "      <td>1.00</td>\n",
       "      <td>2.0000</td>\n",
       "      <td>3.0000</td>\n",
       "      <td>3.0</td>\n",
       "      <td>3.0000</td>\n",
       "    </tr>\n",
       "    <tr>\n",
       "      <th>Age</th>\n",
       "      <td>714.0</td>\n",
       "      <td>29.699118</td>\n",
       "      <td>14.526497</td>\n",
       "      <td>0.42</td>\n",
       "      <td>20.1250</td>\n",
       "      <td>28.0000</td>\n",
       "      <td>38.0</td>\n",
       "      <td>80.0000</td>\n",
       "    </tr>\n",
       "    <tr>\n",
       "      <th>SibSp</th>\n",
       "      <td>891.0</td>\n",
       "      <td>0.523008</td>\n",
       "      <td>1.102743</td>\n",
       "      <td>0.00</td>\n",
       "      <td>0.0000</td>\n",
       "      <td>0.0000</td>\n",
       "      <td>1.0</td>\n",
       "      <td>8.0000</td>\n",
       "    </tr>\n",
       "    <tr>\n",
       "      <th>Parch</th>\n",
       "      <td>891.0</td>\n",
       "      <td>0.381594</td>\n",
       "      <td>0.806057</td>\n",
       "      <td>0.00</td>\n",
       "      <td>0.0000</td>\n",
       "      <td>0.0000</td>\n",
       "      <td>0.0</td>\n",
       "      <td>6.0000</td>\n",
       "    </tr>\n",
       "    <tr>\n",
       "      <th>Fare</th>\n",
       "      <td>891.0</td>\n",
       "      <td>32.204208</td>\n",
       "      <td>49.693429</td>\n",
       "      <td>0.00</td>\n",
       "      <td>7.9104</td>\n",
       "      <td>14.4542</td>\n",
       "      <td>31.0</td>\n",
       "      <td>512.3292</td>\n",
       "    </tr>\n",
       "  </tbody>\n",
       "</table>\n",
       "</div>"
      ],
      "text/plain": [
       "          count       mean        std   min      25%      50%   75%       max\n",
       "Survived  891.0   0.383838   0.486592  0.00   0.0000   0.0000   1.0    1.0000\n",
       "Pclass    891.0   2.308642   0.836071  1.00   2.0000   3.0000   3.0    3.0000\n",
       "Age       714.0  29.699118  14.526497  0.42  20.1250  28.0000  38.0   80.0000\n",
       "SibSp     891.0   0.523008   1.102743  0.00   0.0000   0.0000   1.0    8.0000\n",
       "Parch     891.0   0.381594   0.806057  0.00   0.0000   0.0000   0.0    6.0000\n",
       "Fare      891.0  32.204208  49.693429  0.00   7.9104  14.4542  31.0  512.3292"
      ]
     },
     "metadata": {},
     "output_type": "display_data"
    }
   ],
   "source": [
    "def_info(train)"
   ]
  },
  {
   "cell_type": "code",
   "execution_count": 7,
   "id": "00c3bf6e",
   "metadata": {
    "execution": {
     "iopub.execute_input": "2023-01-22T10:37:51.991477Z",
     "iopub.status.busy": "2023-01-22T10:37:51.991007Z",
     "iopub.status.idle": "2023-01-22T10:37:52.059276Z",
     "shell.execute_reply": "2023-01-22T10:37:52.058226Z"
    },
    "papermill": {
     "duration": 0.087209,
     "end_time": "2023-01-22T10:37:52.061521",
     "exception": false,
     "start_time": "2023-01-22T10:37:51.974312",
     "status": "completed"
    },
    "tags": []
   },
   "outputs": [
    {
     "name": "stdout",
     "output_type": "stream",
     "text": [
      "Размер таблицы: (418, 10)\n",
      "____________________________________\n",
      "\n",
      "Общая информация\n",
      "<class 'pandas.core.frame.DataFrame'>\n",
      "Int64Index: 418 entries, 892 to 1309\n",
      "Data columns (total 10 columns):\n",
      " #   Column    Non-Null Count  Dtype  \n",
      "---  ------    --------------  -----  \n",
      " 0   Pclass    418 non-null    int64  \n",
      " 1   Name      418 non-null    object \n",
      " 2   Sex       418 non-null    object \n",
      " 3   Age       332 non-null    float64\n",
      " 4   SibSp     418 non-null    int64  \n",
      " 5   Parch     418 non-null    int64  \n",
      " 6   Ticket    418 non-null    object \n",
      " 7   Fare      417 non-null    float64\n",
      " 8   Cabin     91 non-null     object \n",
      " 9   Embarked  418 non-null    object \n",
      "dtypes: float64(2), int64(3), object(5)\n",
      "memory usage: 35.9+ KB\n",
      "None\n",
      "____________________________________\n",
      "\n",
      "Вывод 5и первых строк\n"
     ]
    },
    {
     "data": {
      "text/html": [
       "<div>\n",
       "<style scoped>\n",
       "    .dataframe tbody tr th:only-of-type {\n",
       "        vertical-align: middle;\n",
       "    }\n",
       "\n",
       "    .dataframe tbody tr th {\n",
       "        vertical-align: top;\n",
       "    }\n",
       "\n",
       "    .dataframe thead th {\n",
       "        text-align: right;\n",
       "    }\n",
       "</style>\n",
       "<table border=\"1\" class=\"dataframe\">\n",
       "  <thead>\n",
       "    <tr style=\"text-align: right;\">\n",
       "      <th></th>\n",
       "      <th>Pclass</th>\n",
       "      <th>Name</th>\n",
       "      <th>Sex</th>\n",
       "      <th>Age</th>\n",
       "      <th>SibSp</th>\n",
       "      <th>Parch</th>\n",
       "      <th>Ticket</th>\n",
       "      <th>Fare</th>\n",
       "      <th>Cabin</th>\n",
       "      <th>Embarked</th>\n",
       "    </tr>\n",
       "    <tr>\n",
       "      <th>PassengerId</th>\n",
       "      <th></th>\n",
       "      <th></th>\n",
       "      <th></th>\n",
       "      <th></th>\n",
       "      <th></th>\n",
       "      <th></th>\n",
       "      <th></th>\n",
       "      <th></th>\n",
       "      <th></th>\n",
       "      <th></th>\n",
       "    </tr>\n",
       "  </thead>\n",
       "  <tbody>\n",
       "    <tr>\n",
       "      <th>892</th>\n",
       "      <td>3</td>\n",
       "      <td>Kelly, Mr. James</td>\n",
       "      <td>male</td>\n",
       "      <td>34.5</td>\n",
       "      <td>0</td>\n",
       "      <td>0</td>\n",
       "      <td>330911</td>\n",
       "      <td>7.8292</td>\n",
       "      <td>NaN</td>\n",
       "      <td>Q</td>\n",
       "    </tr>\n",
       "    <tr>\n",
       "      <th>893</th>\n",
       "      <td>3</td>\n",
       "      <td>Wilkes, Mrs. James (Ellen Needs)</td>\n",
       "      <td>female</td>\n",
       "      <td>47.0</td>\n",
       "      <td>1</td>\n",
       "      <td>0</td>\n",
       "      <td>363272</td>\n",
       "      <td>7.0000</td>\n",
       "      <td>NaN</td>\n",
       "      <td>S</td>\n",
       "    </tr>\n",
       "    <tr>\n",
       "      <th>894</th>\n",
       "      <td>2</td>\n",
       "      <td>Myles, Mr. Thomas Francis</td>\n",
       "      <td>male</td>\n",
       "      <td>62.0</td>\n",
       "      <td>0</td>\n",
       "      <td>0</td>\n",
       "      <td>240276</td>\n",
       "      <td>9.6875</td>\n",
       "      <td>NaN</td>\n",
       "      <td>Q</td>\n",
       "    </tr>\n",
       "    <tr>\n",
       "      <th>895</th>\n",
       "      <td>3</td>\n",
       "      <td>Wirz, Mr. Albert</td>\n",
       "      <td>male</td>\n",
       "      <td>27.0</td>\n",
       "      <td>0</td>\n",
       "      <td>0</td>\n",
       "      <td>315154</td>\n",
       "      <td>8.6625</td>\n",
       "      <td>NaN</td>\n",
       "      <td>S</td>\n",
       "    </tr>\n",
       "    <tr>\n",
       "      <th>896</th>\n",
       "      <td>3</td>\n",
       "      <td>Hirvonen, Mrs. Alexander (Helga E Lindqvist)</td>\n",
       "      <td>female</td>\n",
       "      <td>22.0</td>\n",
       "      <td>1</td>\n",
       "      <td>1</td>\n",
       "      <td>3101298</td>\n",
       "      <td>12.2875</td>\n",
       "      <td>NaN</td>\n",
       "      <td>S</td>\n",
       "    </tr>\n",
       "  </tbody>\n",
       "</table>\n",
       "</div>"
      ],
      "text/plain": [
       "             Pclass                                          Name     Sex  \\\n",
       "PassengerId                                                                 \n",
       "892               3                              Kelly, Mr. James    male   \n",
       "893               3              Wilkes, Mrs. James (Ellen Needs)  female   \n",
       "894               2                     Myles, Mr. Thomas Francis    male   \n",
       "895               3                              Wirz, Mr. Albert    male   \n",
       "896               3  Hirvonen, Mrs. Alexander (Helga E Lindqvist)  female   \n",
       "\n",
       "              Age  SibSp  Parch   Ticket     Fare Cabin Embarked  \n",
       "PassengerId                                                       \n",
       "892          34.5      0      0   330911   7.8292   NaN        Q  \n",
       "893          47.0      1      0   363272   7.0000   NaN        S  \n",
       "894          62.0      0      0   240276   9.6875   NaN        Q  \n",
       "895          27.0      0      0   315154   8.6625   NaN        S  \n",
       "896          22.0      1      1  3101298  12.2875   NaN        S  "
      ]
     },
     "metadata": {},
     "output_type": "display_data"
    },
    {
     "name": "stdout",
     "output_type": "stream",
     "text": [
      "____________________________________\n",
      "\n",
      "Доля пропусков в таблице:\n",
      "Pclass      0.000000\n",
      "Name        0.000000\n",
      "Sex         0.000000\n",
      "Age         0.205742\n",
      "SibSp       0.000000\n",
      "Parch       0.000000\n",
      "Ticket      0.000000\n",
      "Fare        0.002392\n",
      "Cabin       0.782297\n",
      "Embarked    0.000000\n",
      "dtype: float64\n",
      "____________________________________\n",
      "\n",
      "Доля явных дублей в данных: 0.0\n",
      "____________________________________\n",
      "\n",
      "Информация по полям\n"
     ]
    },
    {
     "data": {
      "text/html": [
       "<div>\n",
       "<style scoped>\n",
       "    .dataframe tbody tr th:only-of-type {\n",
       "        vertical-align: middle;\n",
       "    }\n",
       "\n",
       "    .dataframe tbody tr th {\n",
       "        vertical-align: top;\n",
       "    }\n",
       "\n",
       "    .dataframe thead th {\n",
       "        text-align: right;\n",
       "    }\n",
       "</style>\n",
       "<table border=\"1\" class=\"dataframe\">\n",
       "  <thead>\n",
       "    <tr style=\"text-align: right;\">\n",
       "      <th></th>\n",
       "      <th>count</th>\n",
       "      <th>unique</th>\n",
       "      <th>top</th>\n",
       "      <th>freq</th>\n",
       "    </tr>\n",
       "  </thead>\n",
       "  <tbody>\n",
       "    <tr>\n",
       "      <th>Name</th>\n",
       "      <td>418</td>\n",
       "      <td>418</td>\n",
       "      <td>Kelly, Mr. James</td>\n",
       "      <td>1</td>\n",
       "    </tr>\n",
       "    <tr>\n",
       "      <th>Sex</th>\n",
       "      <td>418</td>\n",
       "      <td>2</td>\n",
       "      <td>male</td>\n",
       "      <td>266</td>\n",
       "    </tr>\n",
       "    <tr>\n",
       "      <th>Ticket</th>\n",
       "      <td>418</td>\n",
       "      <td>363</td>\n",
       "      <td>PC 17608</td>\n",
       "      <td>5</td>\n",
       "    </tr>\n",
       "    <tr>\n",
       "      <th>Cabin</th>\n",
       "      <td>91</td>\n",
       "      <td>76</td>\n",
       "      <td>B57 B59 B63 B66</td>\n",
       "      <td>3</td>\n",
       "    </tr>\n",
       "    <tr>\n",
       "      <th>Embarked</th>\n",
       "      <td>418</td>\n",
       "      <td>3</td>\n",
       "      <td>S</td>\n",
       "      <td>270</td>\n",
       "    </tr>\n",
       "  </tbody>\n",
       "</table>\n",
       "</div>"
      ],
      "text/plain": [
       "         count unique               top freq\n",
       "Name       418    418  Kelly, Mr. James    1\n",
       "Sex        418      2              male  266\n",
       "Ticket     418    363          PC 17608    5\n",
       "Cabin       91     76   B57 B59 B63 B66    3\n",
       "Embarked   418      3                 S  270"
      ]
     },
     "metadata": {},
     "output_type": "display_data"
    },
    {
     "data": {
      "text/html": [
       "<div>\n",
       "<style scoped>\n",
       "    .dataframe tbody tr th:only-of-type {\n",
       "        vertical-align: middle;\n",
       "    }\n",
       "\n",
       "    .dataframe tbody tr th {\n",
       "        vertical-align: top;\n",
       "    }\n",
       "\n",
       "    .dataframe thead th {\n",
       "        text-align: right;\n",
       "    }\n",
       "</style>\n",
       "<table border=\"1\" class=\"dataframe\">\n",
       "  <thead>\n",
       "    <tr style=\"text-align: right;\">\n",
       "      <th></th>\n",
       "      <th>count</th>\n",
       "      <th>mean</th>\n",
       "      <th>std</th>\n",
       "      <th>min</th>\n",
       "      <th>25%</th>\n",
       "      <th>50%</th>\n",
       "      <th>75%</th>\n",
       "      <th>max</th>\n",
       "    </tr>\n",
       "  </thead>\n",
       "  <tbody>\n",
       "    <tr>\n",
       "      <th>Pclass</th>\n",
       "      <td>418.0</td>\n",
       "      <td>2.265550</td>\n",
       "      <td>0.841838</td>\n",
       "      <td>1.00</td>\n",
       "      <td>1.0000</td>\n",
       "      <td>3.0000</td>\n",
       "      <td>3.0</td>\n",
       "      <td>3.0000</td>\n",
       "    </tr>\n",
       "    <tr>\n",
       "      <th>Age</th>\n",
       "      <td>332.0</td>\n",
       "      <td>30.272590</td>\n",
       "      <td>14.181209</td>\n",
       "      <td>0.17</td>\n",
       "      <td>21.0000</td>\n",
       "      <td>27.0000</td>\n",
       "      <td>39.0</td>\n",
       "      <td>76.0000</td>\n",
       "    </tr>\n",
       "    <tr>\n",
       "      <th>SibSp</th>\n",
       "      <td>418.0</td>\n",
       "      <td>0.447368</td>\n",
       "      <td>0.896760</td>\n",
       "      <td>0.00</td>\n",
       "      <td>0.0000</td>\n",
       "      <td>0.0000</td>\n",
       "      <td>1.0</td>\n",
       "      <td>8.0000</td>\n",
       "    </tr>\n",
       "    <tr>\n",
       "      <th>Parch</th>\n",
       "      <td>418.0</td>\n",
       "      <td>0.392344</td>\n",
       "      <td>0.981429</td>\n",
       "      <td>0.00</td>\n",
       "      <td>0.0000</td>\n",
       "      <td>0.0000</td>\n",
       "      <td>0.0</td>\n",
       "      <td>9.0000</td>\n",
       "    </tr>\n",
       "    <tr>\n",
       "      <th>Fare</th>\n",
       "      <td>417.0</td>\n",
       "      <td>35.627188</td>\n",
       "      <td>55.907576</td>\n",
       "      <td>0.00</td>\n",
       "      <td>7.8958</td>\n",
       "      <td>14.4542</td>\n",
       "      <td>31.5</td>\n",
       "      <td>512.3292</td>\n",
       "    </tr>\n",
       "  </tbody>\n",
       "</table>\n",
       "</div>"
      ],
      "text/plain": [
       "        count       mean        std   min      25%      50%   75%       max\n",
       "Pclass  418.0   2.265550   0.841838  1.00   1.0000   3.0000   3.0    3.0000\n",
       "Age     332.0  30.272590  14.181209  0.17  21.0000  27.0000  39.0   76.0000\n",
       "SibSp   418.0   0.447368   0.896760  0.00   0.0000   0.0000   1.0    8.0000\n",
       "Parch   418.0   0.392344   0.981429  0.00   0.0000   0.0000   0.0    9.0000\n",
       "Fare    417.0  35.627188  55.907576  0.00   7.8958  14.4542  31.5  512.3292"
      ]
     },
     "metadata": {},
     "output_type": "display_data"
    }
   ],
   "source": [
    "def_info(test)"
   ]
  },
  {
   "cell_type": "code",
   "execution_count": 8,
   "id": "07927fdc",
   "metadata": {
    "execution": {
     "iopub.execute_input": "2023-01-22T10:37:52.095402Z",
     "iopub.status.busy": "2023-01-22T10:37:52.094369Z",
     "iopub.status.idle": "2023-01-22T10:37:52.100825Z",
     "shell.execute_reply": "2023-01-22T10:37:52.099943Z"
    },
    "papermill": {
     "duration": 0.025361,
     "end_time": "2023-01-22T10:37:52.102946",
     "exception": false,
     "start_time": "2023-01-22T10:37:52.077585",
     "status": "completed"
    },
    "tags": []
   },
   "outputs": [],
   "source": [
    "# приведем названия столбцов к нижнему регистру\n",
    "train.columns = train.columns.str.lower()\n",
    "test.columns = test.columns.str.lower()"
   ]
  },
  {
   "cell_type": "markdown",
   "id": "18fe6e48",
   "metadata": {
    "papermill": {
     "duration": 0.015411,
     "end_time": "2023-01-22T10:37:52.133976",
     "exception": false,
     "start_time": "2023-01-22T10:37:52.118565",
     "status": "completed"
    },
    "tags": []
   },
   "source": [
    "## <p style=\"background-color:#641216; font-family:Nexa; color:#e8f8f5; font-size:150%; text-align:center; border: 2.5px; border-style:solid; border-color:#210400; border-radius: 25px 5px;\">2. EDA</p>"
   ]
  },
  {
   "cell_type": "markdown",
   "id": "90d19287",
   "metadata": {
    "papermill": {
     "duration": 0.015387,
     "end_time": "2023-01-22T10:37:52.165196",
     "exception": false,
     "start_time": "2023-01-22T10:37:52.149809",
     "status": "completed"
    },
    "tags": []
   },
   "source": [
    "Попробуем описать потрет выжившего в трагедии с Титаником."
   ]
  },
  {
   "cell_type": "code",
   "execution_count": 9,
   "id": "87d8622b",
   "metadata": {
    "execution": {
     "iopub.execute_input": "2023-01-22T10:37:52.198640Z",
     "iopub.status.busy": "2023-01-22T10:37:52.198252Z",
     "iopub.status.idle": "2023-01-22T10:37:54.515394Z",
     "shell.execute_reply": "2023-01-22T10:37:54.514205Z"
    },
    "papermill": {
     "duration": 2.336756,
     "end_time": "2023-01-22T10:37:54.517838",
     "exception": false,
     "start_time": "2023-01-22T10:37:52.181082",
     "status": "completed"
    },
    "tags": []
   },
   "outputs": [
    {
     "data": {
      "image/png": "[encoded data removed]",
      "text/plain": [
       "<Figure size 720x288 with 2 Axes>"
      ]
     },
     "metadata": {
      "needs_background": "light"
     },
     "output_type": "display_data"
    },
    {
     "data": {
      "image/png": "[encoded data removed]",
      "text/plain": [
       "<Figure size 720x288 with 2 Axes>"
      ]
     },
     "metadata": {
      "needs_background": "light"
     },
     "output_type": "display_data"
    },
    {
     "data": {
      "image/png": "[encoded data removed]",
      "text/plain": [
       "<Figure size 720x288 with 2 Axes>"
      ]
     },
     "metadata": {
      "needs_background": "light"
     },
     "output_type": "display_data"
    },
    {
     "data": {
      "image/png": "[encoded data removed]",
      "text/plain": [
       "<Figure size 720x288 with 2 Axes>"
      ]
     },
     "metadata": {
      "needs_background": "light"
     },
     "output_type": "display_data"
    },
    {
     "data": {
      "image/png": "[encoded data removed]",
      "text/plain": [
       "<Figure size 720x288 with 2 Axes>"
      ]
     },
     "metadata": {
      "needs_background": "light"
     },
     "output_type": "display_data"
    },
    {
     "data": {
      "image/png": "[encoded data removed]",
      "text/plain": [
       "<Figure size 720x288 with 2 Axes>"
      ]
     },
     "metadata": {
      "needs_background": "light"
     },
     "output_type": "display_data"
    }
   ],
   "source": [
    "# цикл для посьроения графиков по всем полям цифровым\n",
    "for col in train.select_dtypes(include='number').columns:\n",
    "    boxplot_make(train, col)"
   ]
  },
  {
   "cell_type": "code",
   "execution_count": 10,
   "id": "f99d4db4",
   "metadata": {
    "execution": {
     "iopub.execute_input": "2023-01-22T10:37:54.557000Z",
     "iopub.status.busy": "2023-01-22T10:37:54.555876Z",
     "iopub.status.idle": "2023-01-22T10:37:54.692702Z",
     "shell.execute_reply": "2023-01-22T10:37:54.691112Z"
    },
    "papermill": {
     "duration": 0.159758,
     "end_time": "2023-01-22T10:37:54.696242",
     "exception": false,
     "start_time": "2023-01-22T10:37:54.536484",
     "status": "completed"
    },
    "tags": []
   },
   "outputs": [
    {
     "data": {
      "text/html": [
       "<style type=\"text/css\">\n",
       "#T_44c65_row0_col0, #T_44c65_row0_col2, #T_44c65_row2_col1 {\n",
       "  background-color: #662506;\n",
       "  color: #f1f1f1;\n",
       "}\n",
       "#T_44c65_row0_col1 {\n",
       "  background-color: #ffeea8;\n",
       "  color: #000000;\n",
       "}\n",
       "#T_44c65_row1_col0, #T_44c65_row1_col1, #T_44c65_row2_col2 {\n",
       "  background-color: #fff9c7;\n",
       "  color: #000000;\n",
       "}\n",
       "#T_44c65_row1_col2 {\n",
       "  background-color: #ea6e13;\n",
       "  color: #f1f1f1;\n",
       "}\n",
       "#T_44c65_row2_col0 {\n",
       "  background-color: #dc5e0b;\n",
       "  color: #f1f1f1;\n",
       "}\n",
       "</style>\n",
       "<table id=\"T_44c65_\">\n",
       "  <thead>\n",
       "    <tr>\n",
       "      <th class=\"blank level0\" >&nbsp;</th>\n",
       "      <th class=\"col_heading level0 col0\" >sum</th>\n",
       "      <th class=\"col_heading level0 col1\" >count</th>\n",
       "      <th class=\"col_heading level0 col2\" >share</th>\n",
       "    </tr>\n",
       "    <tr>\n",
       "      <th class=\"index_name level0\" >pclass</th>\n",
       "      <th class=\"blank col0\" >&nbsp;</th>\n",
       "      <th class=\"blank col1\" >&nbsp;</th>\n",
       "      <th class=\"blank col2\" >&nbsp;</th>\n",
       "    </tr>\n",
       "  </thead>\n",
       "  <tbody>\n",
       "    <tr>\n",
       "      <th id=\"T_44c65_level0_row0\" class=\"row_heading level0 row0\" >1</th>\n",
       "      <td id=\"T_44c65_row0_col0\" class=\"data row0 col0\" >136</td>\n",
       "      <td id=\"T_44c65_row0_col1\" class=\"data row0 col1\" >216</td>\n",
       "      <td id=\"T_44c65_row0_col2\" class=\"data row0 col2\" >0.629630</td>\n",
       "    </tr>\n",
       "    <tr>\n",
       "      <th id=\"T_44c65_level0_row1\" class=\"row_heading level0 row1\" >2</th>\n",
       "      <td id=\"T_44c65_row1_col0\" class=\"data row1 col0\" >87</td>\n",
       "      <td id=\"T_44c65_row1_col1\" class=\"data row1 col1\" >184</td>\n",
       "      <td id=\"T_44c65_row1_col2\" class=\"data row1 col2\" >0.472826</td>\n",
       "    </tr>\n",
       "    <tr>\n",
       "      <th id=\"T_44c65_level0_row2\" class=\"row_heading level0 row2\" >3</th>\n",
       "      <td id=\"T_44c65_row2_col0\" class=\"data row2 col0\" >119</td>\n",
       "      <td id=\"T_44c65_row2_col1\" class=\"data row2 col1\" >491</td>\n",
       "      <td id=\"T_44c65_row2_col2\" class=\"data row2 col2\" >0.242363</td>\n",
       "    </tr>\n",
       "  </tbody>\n",
       "</table>\n"
      ],
      "text/plain": [
       "<pandas.io.formats.style.Styler at 0x7f15d63f9410>"
      ]
     },
     "metadata": {},
     "output_type": "display_data"
    },
    {
     "data": {
      "text/html": [
       "<style type=\"text/css\">\n",
       "#T_77dd0_row0_col0, #T_77dd0_row0_col2, #T_77dd0_row1_col1 {\n",
       "  background-color: #662506;\n",
       "  color: #f1f1f1;\n",
       "}\n",
       "#T_77dd0_row0_col1, #T_77dd0_row1_col0, #T_77dd0_row1_col2 {\n",
       "  background-color: #fff9c7;\n",
       "  color: #000000;\n",
       "}\n",
       "</style>\n",
       "<table id=\"T_77dd0_\">\n",
       "  <thead>\n",
       "    <tr>\n",
       "      <th class=\"blank level0\" >&nbsp;</th>\n",
       "      <th class=\"col_heading level0 col0\" >sum</th>\n",
       "      <th class=\"col_heading level0 col1\" >count</th>\n",
       "      <th class=\"col_heading level0 col2\" >share</th>\n",
       "    </tr>\n",
       "    <tr>\n",
       "      <th class=\"index_name level0\" >sex</th>\n",
       "      <th class=\"blank col0\" >&nbsp;</th>\n",
       "      <th class=\"blank col1\" >&nbsp;</th>\n",
       "      <th class=\"blank col2\" >&nbsp;</th>\n",
       "    </tr>\n",
       "  </thead>\n",
       "  <tbody>\n",
       "    <tr>\n",
       "      <th id=\"T_77dd0_level0_row0\" class=\"row_heading level0 row0\" >female</th>\n",
       "      <td id=\"T_77dd0_row0_col0\" class=\"data row0 col0\" >233</td>\n",
       "      <td id=\"T_77dd0_row0_col1\" class=\"data row0 col1\" >314</td>\n",
       "      <td id=\"T_77dd0_row0_col2\" class=\"data row0 col2\" >0.742038</td>\n",
       "    </tr>\n",
       "    <tr>\n",
       "      <th id=\"T_77dd0_level0_row1\" class=\"row_heading level0 row1\" >male</th>\n",
       "      <td id=\"T_77dd0_row1_col0\" class=\"data row1 col0\" >109</td>\n",
       "      <td id=\"T_77dd0_row1_col1\" class=\"data row1 col1\" >577</td>\n",
       "      <td id=\"T_77dd0_row1_col2\" class=\"data row1 col2\" >0.188908</td>\n",
       "    </tr>\n",
       "  </tbody>\n",
       "</table>\n"
      ],
      "text/plain": [
       "<pandas.io.formats.style.Styler at 0x7f15d6321a90>"
      ]
     },
     "metadata": {},
     "output_type": "display_data"
    },
    {
     "data": {
      "text/html": [
       "<style type=\"text/css\">\n",
       "#T_3a230_row0_col0 {\n",
       "  background-color: #f3801c;\n",
       "  color: #f1f1f1;\n",
       "}\n",
       "#T_3a230_row0_col1 {\n",
       "  background-color: #febb47;\n",
       "  color: #000000;\n",
       "}\n",
       "#T_3a230_row0_col2, #T_3a230_row2_col0, #T_3a230_row2_col1 {\n",
       "  background-color: #662506;\n",
       "  color: #f1f1f1;\n",
       "}\n",
       "#T_3a230_row1_col0 {\n",
       "  background-color: #fff4b5;\n",
       "  color: #000000;\n",
       "}\n",
       "#T_3a230_row1_col1 {\n",
       "  background-color: #fff7bc;\n",
       "  color: #000000;\n",
       "}\n",
       "#T_3a230_row1_col2 {\n",
       "  background-color: #983404;\n",
       "  color: #f1f1f1;\n",
       "}\n",
       "#T_3a230_row2_col2 {\n",
       "  background-color: #de610c;\n",
       "  color: #f1f1f1;\n",
       "}\n",
       "#T_3a230_row3_col0, #T_3a230_row3_col1 {\n",
       "  background-color: #fff8c2;\n",
       "  color: #000000;\n",
       "}\n",
       "#T_3a230_row3_col2 {\n",
       "  background-color: #fc9427;\n",
       "  color: #000000;\n",
       "}\n",
       "#T_3a230_row4_col0 {\n",
       "  background-color: #fff8c4;\n",
       "  color: #000000;\n",
       "}\n",
       "#T_3a230_row4_col1 {\n",
       "  background-color: #fff8c1;\n",
       "  color: #000000;\n",
       "}\n",
       "#T_3a230_row4_col2 {\n",
       "  background-color: #fec550;\n",
       "  color: #000000;\n",
       "}\n",
       "#T_3a230_row5_col0, #T_3a230_row5_col1, #T_3a230_row5_col2, #T_3a230_row6_col0, #T_3a230_row6_col2 {\n",
       "  background-color: #fff9c7;\n",
       "  color: #000000;\n",
       "}\n",
       "#T_3a230_row6_col1 {\n",
       "  background-color: #fff9c6;\n",
       "  color: #000000;\n",
       "}\n",
       "</style>\n",
       "<table id=\"T_3a230_\">\n",
       "  <thead>\n",
       "    <tr>\n",
       "      <th class=\"blank level0\" >&nbsp;</th>\n",
       "      <th class=\"col_heading level0 col0\" >sum</th>\n",
       "      <th class=\"col_heading level0 col1\" >count</th>\n",
       "      <th class=\"col_heading level0 col2\" >share</th>\n",
       "    </tr>\n",
       "    <tr>\n",
       "      <th class=\"index_name level0\" >sibsp</th>\n",
       "      <th class=\"blank col0\" >&nbsp;</th>\n",
       "      <th class=\"blank col1\" >&nbsp;</th>\n",
       "      <th class=\"blank col2\" >&nbsp;</th>\n",
       "    </tr>\n",
       "  </thead>\n",
       "  <tbody>\n",
       "    <tr>\n",
       "      <th id=\"T_3a230_level0_row0\" class=\"row_heading level0 row0\" >1</th>\n",
       "      <td id=\"T_3a230_row0_col0\" class=\"data row0 col0\" >112</td>\n",
       "      <td id=\"T_3a230_row0_col1\" class=\"data row0 col1\" >209</td>\n",
       "      <td id=\"T_3a230_row0_col2\" class=\"data row0 col2\" >0.535885</td>\n",
       "    </tr>\n",
       "    <tr>\n",
       "      <th id=\"T_3a230_level0_row1\" class=\"row_heading level0 row1\" >2</th>\n",
       "      <td id=\"T_3a230_row1_col0\" class=\"data row1 col0\" >13</td>\n",
       "      <td id=\"T_3a230_row1_col1\" class=\"data row1 col1\" >28</td>\n",
       "      <td id=\"T_3a230_row1_col2\" class=\"data row1 col2\" >0.464286</td>\n",
       "    </tr>\n",
       "    <tr>\n",
       "      <th id=\"T_3a230_level0_row2\" class=\"row_heading level0 row2\" >0</th>\n",
       "      <td id=\"T_3a230_row2_col0\" class=\"data row2 col0\" >210</td>\n",
       "      <td id=\"T_3a230_row2_col1\" class=\"data row2 col1\" >608</td>\n",
       "      <td id=\"T_3a230_row2_col2\" class=\"data row2 col2\" >0.345395</td>\n",
       "    </tr>\n",
       "    <tr>\n",
       "      <th id=\"T_3a230_level0_row3\" class=\"row_heading level0 row3\" >3</th>\n",
       "      <td id=\"T_3a230_row3_col0\" class=\"data row3 col0\" >4</td>\n",
       "      <td id=\"T_3a230_row3_col1\" class=\"data row3 col1\" >16</td>\n",
       "      <td id=\"T_3a230_row3_col2\" class=\"data row3 col2\" >0.250000</td>\n",
       "    </tr>\n",
       "    <tr>\n",
       "      <th id=\"T_3a230_level0_row4\" class=\"row_heading level0 row4\" >4</th>\n",
       "      <td id=\"T_3a230_row4_col0\" class=\"data row4 col0\" >3</td>\n",
       "      <td id=\"T_3a230_row4_col1\" class=\"data row4 col1\" >18</td>\n",
       "      <td id=\"T_3a230_row4_col2\" class=\"data row4 col2\" >0.166667</td>\n",
       "    </tr>\n",
       "    <tr>\n",
       "      <th id=\"T_3a230_level0_row5\" class=\"row_heading level0 row5\" >5</th>\n",
       "      <td id=\"T_3a230_row5_col0\" class=\"data row5 col0\" >0</td>\n",
       "      <td id=\"T_3a230_row5_col1\" class=\"data row5 col1\" >5</td>\n",
       "      <td id=\"T_3a230_row5_col2\" class=\"data row5 col2\" >0.000000</td>\n",
       "    </tr>\n",
       "    <tr>\n",
       "      <th id=\"T_3a230_level0_row6\" class=\"row_heading level0 row6\" >8</th>\n",
       "      <td id=\"T_3a230_row6_col0\" class=\"data row6 col0\" >0</td>\n",
       "      <td id=\"T_3a230_row6_col1\" class=\"data row6 col1\" >7</td>\n",
       "      <td id=\"T_3a230_row6_col2\" class=\"data row6 col2\" >0.000000</td>\n",
       "    </tr>\n",
       "  </tbody>\n",
       "</table>\n"
      ],
      "text/plain": [
       "<pandas.io.formats.style.Styler at 0x7f15d6458810>"
      ]
     },
     "metadata": {},
     "output_type": "display_data"
    },
    {
     "data": {
      "text/html": [
       "<style type=\"text/css\">\n",
       "#T_97b69_row0_col0 {\n",
       "  background-color: #fff8c4;\n",
       "  color: #000000;\n",
       "}\n",
       "#T_97b69_row0_col1, #T_97b69_row4_col0, #T_97b69_row4_col1, #T_97b69_row5_col1 {\n",
       "  background-color: #fff9c6;\n",
       "  color: #000000;\n",
       "}\n",
       "#T_97b69_row0_col2, #T_97b69_row3_col0, #T_97b69_row3_col1 {\n",
       "  background-color: #662506;\n",
       "  color: #f1f1f1;\n",
       "}\n",
       "#T_97b69_row1_col0 {\n",
       "  background-color: #fecb5f;\n",
       "  color: #000000;\n",
       "}\n",
       "#T_97b69_row1_col1, #T_97b69_row2_col0 {\n",
       "  background-color: #fee392;\n",
       "  color: #000000;\n",
       "}\n",
       "#T_97b69_row1_col2 {\n",
       "  background-color: #842e05;\n",
       "  color: #f1f1f1;\n",
       "}\n",
       "#T_97b69_row2_col1 {\n",
       "  background-color: #feeca4;\n",
       "  color: #000000;\n",
       "}\n",
       "#T_97b69_row2_col2 {\n",
       "  background-color: #a33904;\n",
       "  color: #f1f1f1;\n",
       "}\n",
       "#T_97b69_row3_col2 {\n",
       "  background-color: #ee7416;\n",
       "  color: #f1f1f1;\n",
       "}\n",
       "#T_97b69_row4_col2 {\n",
       "  background-color: #febe4a;\n",
       "  color: #000000;\n",
       "}\n",
       "#T_97b69_row5_col0, #T_97b69_row5_col2, #T_97b69_row6_col0, #T_97b69_row6_col1, #T_97b69_row6_col2 {\n",
       "  background-color: #fff9c7;\n",
       "  color: #000000;\n",
       "}\n",
       "</style>\n",
       "<table id=\"T_97b69_\">\n",
       "  <thead>\n",
       "    <tr>\n",
       "      <th class=\"blank level0\" >&nbsp;</th>\n",
       "      <th class=\"col_heading level0 col0\" >sum</th>\n",
       "      <th class=\"col_heading level0 col1\" >count</th>\n",
       "      <th class=\"col_heading level0 col2\" >share</th>\n",
       "    </tr>\n",
       "    <tr>\n",
       "      <th class=\"index_name level0\" >parch</th>\n",
       "      <th class=\"blank col0\" >&nbsp;</th>\n",
       "      <th class=\"blank col1\" >&nbsp;</th>\n",
       "      <th class=\"blank col2\" >&nbsp;</th>\n",
       "    </tr>\n",
       "  </thead>\n",
       "  <tbody>\n",
       "    <tr>\n",
       "      <th id=\"T_97b69_level0_row0\" class=\"row_heading level0 row0\" >3</th>\n",
       "      <td id=\"T_97b69_row0_col0\" class=\"data row0 col0\" >3</td>\n",
       "      <td id=\"T_97b69_row0_col1\" class=\"data row0 col1\" >5</td>\n",
       "      <td id=\"T_97b69_row0_col2\" class=\"data row0 col2\" >0.600000</td>\n",
       "    </tr>\n",
       "    <tr>\n",
       "      <th id=\"T_97b69_level0_row1\" class=\"row_heading level0 row1\" >1</th>\n",
       "      <td id=\"T_97b69_row1_col0\" class=\"data row1 col0\" >65</td>\n",
       "      <td id=\"T_97b69_row1_col1\" class=\"data row1 col1\" >118</td>\n",
       "      <td id=\"T_97b69_row1_col2\" class=\"data row1 col2\" >0.550847</td>\n",
       "    </tr>\n",
       "    <tr>\n",
       "      <th id=\"T_97b69_level0_row2\" class=\"row_heading level0 row2\" >2</th>\n",
       "      <td id=\"T_97b69_row2_col0\" class=\"data row2 col0\" >40</td>\n",
       "      <td id=\"T_97b69_row2_col1\" class=\"data row2 col1\" >80</td>\n",
       "      <td id=\"T_97b69_row2_col2\" class=\"data row2 col2\" >0.500000</td>\n",
       "    </tr>\n",
       "    <tr>\n",
       "      <th id=\"T_97b69_level0_row3\" class=\"row_heading level0 row3\" >0</th>\n",
       "      <td id=\"T_97b69_row3_col0\" class=\"data row3 col0\" >233</td>\n",
       "      <td id=\"T_97b69_row3_col1\" class=\"data row3 col1\" >678</td>\n",
       "      <td id=\"T_97b69_row3_col2\" class=\"data row3 col2\" >0.343658</td>\n",
       "    </tr>\n",
       "    <tr>\n",
       "      <th id=\"T_97b69_level0_row4\" class=\"row_heading level0 row4\" >5</th>\n",
       "      <td id=\"T_97b69_row4_col0\" class=\"data row4 col0\" >1</td>\n",
       "      <td id=\"T_97b69_row4_col1\" class=\"data row4 col1\" >5</td>\n",
       "      <td id=\"T_97b69_row4_col2\" class=\"data row4 col2\" >0.200000</td>\n",
       "    </tr>\n",
       "    <tr>\n",
       "      <th id=\"T_97b69_level0_row5\" class=\"row_heading level0 row5\" >4</th>\n",
       "      <td id=\"T_97b69_row5_col0\" class=\"data row5 col0\" >0</td>\n",
       "      <td id=\"T_97b69_row5_col1\" class=\"data row5 col1\" >4</td>\n",
       "      <td id=\"T_97b69_row5_col2\" class=\"data row5 col2\" >0.000000</td>\n",
       "    </tr>\n",
       "    <tr>\n",
       "      <th id=\"T_97b69_level0_row6\" class=\"row_heading level0 row6\" >6</th>\n",
       "      <td id=\"T_97b69_row6_col0\" class=\"data row6 col0\" >0</td>\n",
       "      <td id=\"T_97b69_row6_col1\" class=\"data row6 col1\" >1</td>\n",
       "      <td id=\"T_97b69_row6_col2\" class=\"data row6 col2\" >0.000000</td>\n",
       "    </tr>\n",
       "  </tbody>\n",
       "</table>\n"
      ],
      "text/plain": [
       "<pandas.io.formats.style.Styler at 0x7f15d642e610>"
      ]
     },
     "metadata": {},
     "output_type": "display_data"
    },
    {
     "data": {
      "text/html": [
       "<style type=\"text/css\">\n",
       "#T_1bbaf_row0_col0 {\n",
       "  background-color: #febd49;\n",
       "  color: #000000;\n",
       "}\n",
       "#T_1bbaf_row0_col1 {\n",
       "  background-color: #fee596;\n",
       "  color: #000000;\n",
       "}\n",
       "#T_1bbaf_row0_col2, #T_1bbaf_row2_col0, #T_1bbaf_row2_col1 {\n",
       "  background-color: #662506;\n",
       "  color: #f1f1f1;\n",
       "}\n",
       "#T_1bbaf_row1_col0, #T_1bbaf_row1_col1, #T_1bbaf_row2_col2 {\n",
       "  background-color: #fff9c7;\n",
       "  color: #000000;\n",
       "}\n",
       "#T_1bbaf_row1_col2 {\n",
       "  background-color: #fed471;\n",
       "  color: #000000;\n",
       "}\n",
       "</style>\n",
       "<table id=\"T_1bbaf_\">\n",
       "  <thead>\n",
       "    <tr>\n",
       "      <th class=\"blank level0\" >&nbsp;</th>\n",
       "      <th class=\"col_heading level0 col0\" >sum</th>\n",
       "      <th class=\"col_heading level0 col1\" >count</th>\n",
       "      <th class=\"col_heading level0 col2\" >share</th>\n",
       "    </tr>\n",
       "    <tr>\n",
       "      <th class=\"index_name level0\" >embarked</th>\n",
       "      <th class=\"blank col0\" >&nbsp;</th>\n",
       "      <th class=\"blank col1\" >&nbsp;</th>\n",
       "      <th class=\"blank col2\" >&nbsp;</th>\n",
       "    </tr>\n",
       "  </thead>\n",
       "  <tbody>\n",
       "    <tr>\n",
       "      <th id=\"T_1bbaf_level0_row0\" class=\"row_heading level0 row0\" >C</th>\n",
       "      <td id=\"T_1bbaf_row0_col0\" class=\"data row0 col0\" >93</td>\n",
       "      <td id=\"T_1bbaf_row0_col1\" class=\"data row0 col1\" >168</td>\n",
       "      <td id=\"T_1bbaf_row0_col2\" class=\"data row0 col2\" >0.553571</td>\n",
       "    </tr>\n",
       "    <tr>\n",
       "      <th id=\"T_1bbaf_level0_row1\" class=\"row_heading level0 row1\" >Q</th>\n",
       "      <td id=\"T_1bbaf_row1_col0\" class=\"data row1 col0\" >30</td>\n",
       "      <td id=\"T_1bbaf_row1_col1\" class=\"data row1 col1\" >77</td>\n",
       "      <td id=\"T_1bbaf_row1_col2\" class=\"data row1 col2\" >0.389610</td>\n",
       "    </tr>\n",
       "    <tr>\n",
       "      <th id=\"T_1bbaf_level0_row2\" class=\"row_heading level0 row2\" >S</th>\n",
       "      <td id=\"T_1bbaf_row2_col0\" class=\"data row2 col0\" >217</td>\n",
       "      <td id=\"T_1bbaf_row2_col1\" class=\"data row2 col1\" >644</td>\n",
       "      <td id=\"T_1bbaf_row2_col2\" class=\"data row2 col2\" >0.336957</td>\n",
       "    </tr>\n",
       "  </tbody>\n",
       "</table>\n"
      ],
      "text/plain": [
       "<pandas.io.formats.style.Styler at 0x7f15d69da110>"
      ]
     },
     "metadata": {},
     "output_type": "display_data"
    }
   ],
   "source": [
    "col = ['pclass', 'sex', 'sibsp', 'parch', 'embarked']\n",
    "for c in col:\n",
    "    display(result_table(train, c, 'survived'))"
   ]
  },
  {
   "cell_type": "code",
   "execution_count": 11,
   "id": "643aff2f",
   "metadata": {
    "execution": {
     "iopub.execute_input": "2023-01-22T10:37:54.738519Z",
     "iopub.status.busy": "2023-01-22T10:37:54.737764Z",
     "iopub.status.idle": "2023-01-22T10:37:54.764827Z",
     "shell.execute_reply": "2023-01-22T10:37:54.763785Z"
    },
    "papermill": {
     "duration": 0.051517,
     "end_time": "2023-01-22T10:37:54.767334",
     "exception": false,
     "start_time": "2023-01-22T10:37:54.715817",
     "status": "completed"
    },
    "tags": []
   },
   "outputs": [],
   "source": [
    "# функция для перевода поля в бинарное значение\n",
    "train['cabin'] = train['cabin'].fillna('NNN')\n",
    "test['cabin'] = test['cabin'].fillna('NNN')\n",
    "def cabin_make(row):\n",
    "    cabin = row['cabin']\n",
    "    if cabin == 'NNN':\n",
    "        return 0\n",
    "    else:\n",
    "        return 1\n",
    "# прмиеним функцию    \n",
    "train['cabin'] = train.apply(cabin_make, axis=1) \n",
    "test['cabin'] = test.apply(cabin_make, axis=1) "
   ]
  },
  {
   "cell_type": "code",
   "execution_count": 12,
   "id": "a828194f",
   "metadata": {
    "execution": {
     "iopub.execute_input": "2023-01-22T10:37:54.808924Z",
     "iopub.status.busy": "2023-01-22T10:37:54.808258Z",
     "iopub.status.idle": "2023-01-22T10:37:54.825115Z",
     "shell.execute_reply": "2023-01-22T10:37:54.824343Z"
    },
    "papermill": {
     "duration": 0.039695,
     "end_time": "2023-01-22T10:37:54.827176",
     "exception": false,
     "start_time": "2023-01-22T10:37:54.787481",
     "status": "completed"
    },
    "tags": []
   },
   "outputs": [
    {
     "data": {
      "text/html": [
       "<style type=\"text/css\">\n",
       "#T_297d0_row0_col0, #T_297d0_row0_col1, #T_297d0_row1_col2 {\n",
       "  background-color: #fff9c7;\n",
       "  color: #000000;\n",
       "}\n",
       "#T_297d0_row0_col2, #T_297d0_row1_col0, #T_297d0_row1_col1 {\n",
       "  background-color: #662506;\n",
       "  color: #f1f1f1;\n",
       "}\n",
       "</style>\n",
       "<table id=\"T_297d0_\">\n",
       "  <thead>\n",
       "    <tr>\n",
       "      <th class=\"blank level0\" >&nbsp;</th>\n",
       "      <th class=\"col_heading level0 col0\" >sum</th>\n",
       "      <th class=\"col_heading level0 col1\" >count</th>\n",
       "      <th class=\"col_heading level0 col2\" >share</th>\n",
       "    </tr>\n",
       "    <tr>\n",
       "      <th class=\"index_name level0\" >cabin</th>\n",
       "      <th class=\"blank col0\" >&nbsp;</th>\n",
       "      <th class=\"blank col1\" >&nbsp;</th>\n",
       "      <th class=\"blank col2\" >&nbsp;</th>\n",
       "    </tr>\n",
       "  </thead>\n",
       "  <tbody>\n",
       "    <tr>\n",
       "      <th id=\"T_297d0_level0_row0\" class=\"row_heading level0 row0\" >1</th>\n",
       "      <td id=\"T_297d0_row0_col0\" class=\"data row0 col0\" >136</td>\n",
       "      <td id=\"T_297d0_row0_col1\" class=\"data row0 col1\" >204</td>\n",
       "      <td id=\"T_297d0_row0_col2\" class=\"data row0 col2\" >0.666667</td>\n",
       "    </tr>\n",
       "    <tr>\n",
       "      <th id=\"T_297d0_level0_row1\" class=\"row_heading level0 row1\" >0</th>\n",
       "      <td id=\"T_297d0_row1_col0\" class=\"data row1 col0\" >206</td>\n",
       "      <td id=\"T_297d0_row1_col1\" class=\"data row1 col1\" >687</td>\n",
       "      <td id=\"T_297d0_row1_col2\" class=\"data row1 col2\" >0.299854</td>\n",
       "    </tr>\n",
       "  </tbody>\n",
       "</table>\n"
      ],
      "text/plain": [
       "<pandas.io.formats.style.Styler at 0x7f15d62ca450>"
      ]
     },
     "execution_count": 12,
     "metadata": {},
     "output_type": "execute_result"
    }
   ],
   "source": [
    "result_table(train, 'cabin', 'survived')"
   ]
  },
  {
   "cell_type": "code",
   "execution_count": 13,
   "id": "de2f7759",
   "metadata": {
    "execution": {
     "iopub.execute_input": "2023-01-22T10:37:54.868662Z",
     "iopub.status.busy": "2023-01-22T10:37:54.867993Z",
     "iopub.status.idle": "2023-01-22T10:37:54.894258Z",
     "shell.execute_reply": "2023-01-22T10:37:54.893128Z"
    },
    "papermill": {
     "duration": 0.04903,
     "end_time": "2023-01-22T10:37:54.896411",
     "exception": false,
     "start_time": "2023-01-22T10:37:54.847381",
     "status": "completed"
    },
    "tags": []
   },
   "outputs": [
    {
     "data": {
      "text/html": [
       "<style type=\"text/css\">\n",
       "#T_7d9a8_row0_col0, #T_7d9a8_row1_col1, #T_7d9a8_row2_col2, #T_7d9a8_row3_col3, #T_7d9a8_row4_col4, #T_7d9a8_row5_col5, #T_7d9a8_row6_col6 {\n",
       "  background-color: #662506;\n",
       "  color: #f1f1f1;\n",
       "}\n",
       "#T_7d9a8_row0_col1, #T_7d9a8_row3_col0 {\n",
       "  background-color: #fed87a;\n",
       "  color: #000000;\n",
       "}\n",
       "#T_7d9a8_row0_col2 {\n",
       "  background-color: #fedb80;\n",
       "  color: #000000;\n",
       "}\n",
       "#T_7d9a8_row0_col3, #T_7d9a8_row2_col1 {\n",
       "  background-color: #fedc82;\n",
       "  color: #000000;\n",
       "}\n",
       "#T_7d9a8_row0_col4 {\n",
       "  background-color: #fed778;\n",
       "  color: #000000;\n",
       "}\n",
       "#T_7d9a8_row0_col5 {\n",
       "  background-color: #f5841e;\n",
       "  color: #f1f1f1;\n",
       "}\n",
       "#T_7d9a8_row0_col6 {\n",
       "  background-color: #e86c12;\n",
       "  color: #f1f1f1;\n",
       "}\n",
       "#T_7d9a8_row1_col0, #T_7d9a8_row1_col2, #T_7d9a8_row1_col5, #T_7d9a8_row1_col6, #T_7d9a8_row2_col3, #T_7d9a8_row2_col4, #T_7d9a8_row6_col1 {\n",
       "  background-color: #fff9c7;\n",
       "  color: #000000;\n",
       "}\n",
       "#T_7d9a8_row1_col3 {\n",
       "  background-color: #fec857;\n",
       "  color: #000000;\n",
       "}\n",
       "#T_7d9a8_row1_col4 {\n",
       "  background-color: #fee392;\n",
       "  color: #000000;\n",
       "}\n",
       "#T_7d9a8_row2_col0 {\n",
       "  background-color: #fedf88;\n",
       "  color: #000000;\n",
       "}\n",
       "#T_7d9a8_row2_col5 {\n",
       "  background-color: #fea332;\n",
       "  color: #000000;\n",
       "}\n",
       "#T_7d9a8_row2_col6 {\n",
       "  background-color: #ef7718;\n",
       "  color: #f1f1f1;\n",
       "}\n",
       "#T_7d9a8_row3_col1 {\n",
       "  background-color: #fb9326;\n",
       "  color: #000000;\n",
       "}\n",
       "#T_7d9a8_row3_col2 {\n",
       "  background-color: #fff6ba;\n",
       "  color: #000000;\n",
       "}\n",
       "#T_7d9a8_row3_col4 {\n",
       "  background-color: #f68820;\n",
       "  color: #f1f1f1;\n",
       "}\n",
       "#T_7d9a8_row3_col5 {\n",
       "  background-color: #fd9728;\n",
       "  color: #000000;\n",
       "}\n",
       "#T_7d9a8_row3_col6 {\n",
       "  background-color: #feaa38;\n",
       "  color: #000000;\n",
       "}\n",
       "#T_7d9a8_row4_col0 {\n",
       "  background-color: #fec34f;\n",
       "  color: #000000;\n",
       "}\n",
       "#T_7d9a8_row4_col1 {\n",
       "  background-color: #fe9f2e;\n",
       "  color: #000000;\n",
       "}\n",
       "#T_7d9a8_row4_col2 {\n",
       "  background-color: #feeaa0;\n",
       "  color: #000000;\n",
       "}\n",
       "#T_7d9a8_row4_col3 {\n",
       "  background-color: #f17b1a;\n",
       "  color: #f1f1f1;\n",
       "}\n",
       "#T_7d9a8_row4_col5 {\n",
       "  background-color: #f88b22;\n",
       "  color: #f1f1f1;\n",
       "}\n",
       "#T_7d9a8_row4_col6, #T_7d9a8_row5_col0 {\n",
       "  background-color: #fe9b2b;\n",
       "  color: #000000;\n",
       "}\n",
       "#T_7d9a8_row5_col1 {\n",
       "  background-color: #ffeea8;\n",
       "  color: #000000;\n",
       "}\n",
       "#T_7d9a8_row5_col2, #T_7d9a8_row5_col4 {\n",
       "  background-color: #febb47;\n",
       "  color: #000000;\n",
       "}\n",
       "#T_7d9a8_row5_col3 {\n",
       "  background-color: #feb643;\n",
       "  color: #000000;\n",
       "}\n",
       "#T_7d9a8_row5_col6 {\n",
       "  background-color: #d15205;\n",
       "  color: #f1f1f1;\n",
       "}\n",
       "#T_7d9a8_row6_col0 {\n",
       "  background-color: #f98d23;\n",
       "  color: #f1f1f1;\n",
       "}\n",
       "#T_7d9a8_row6_col2 {\n",
       "  background-color: #fe9829;\n",
       "  color: #000000;\n",
       "}\n",
       "#T_7d9a8_row6_col3 {\n",
       "  background-color: #fedd84;\n",
       "  color: #000000;\n",
       "}\n",
       "#T_7d9a8_row6_col4 {\n",
       "  background-color: #fee08a;\n",
       "  color: #000000;\n",
       "}\n",
       "#T_7d9a8_row6_col5 {\n",
       "  background-color: #d95b09;\n",
       "  color: #f1f1f1;\n",
       "}\n",
       "</style>\n",
       "<table id=\"T_7d9a8_\">\n",
       "  <thead>\n",
       "    <tr>\n",
       "      <th class=\"blank level0\" >&nbsp;</th>\n",
       "      <th class=\"col_heading level0 col0\" >survived</th>\n",
       "      <th class=\"col_heading level0 col1\" >pclass</th>\n",
       "      <th class=\"col_heading level0 col2\" >age</th>\n",
       "      <th class=\"col_heading level0 col3\" >sibsp</th>\n",
       "      <th class=\"col_heading level0 col4\" >parch</th>\n",
       "      <th class=\"col_heading level0 col5\" >fare</th>\n",
       "      <th class=\"col_heading level0 col6\" >cabin</th>\n",
       "    </tr>\n",
       "  </thead>\n",
       "  <tbody>\n",
       "    <tr>\n",
       "      <th id=\"T_7d9a8_level0_row0\" class=\"row_heading level0 row0\" >survived</th>\n",
       "      <td id=\"T_7d9a8_row0_col0\" class=\"data row0 col0\" >1.000000</td>\n",
       "      <td id=\"T_7d9a8_row0_col1\" class=\"data row0 col1\" >-0.338481</td>\n",
       "      <td id=\"T_7d9a8_row0_col2\" class=\"data row0 col2\" >-0.077221</td>\n",
       "      <td id=\"T_7d9a8_row0_col3\" class=\"data row0 col3\" >-0.035322</td>\n",
       "      <td id=\"T_7d9a8_row0_col4\" class=\"data row0 col4\" >0.081629</td>\n",
       "      <td id=\"T_7d9a8_row0_col5\" class=\"data row0 col5\" >0.257307</td>\n",
       "      <td id=\"T_7d9a8_row0_col6\" class=\"data row0 col6\" >0.316912</td>\n",
       "    </tr>\n",
       "    <tr>\n",
       "      <th id=\"T_7d9a8_level0_row1\" class=\"row_heading level0 row1\" >pclass</th>\n",
       "      <td id=\"T_7d9a8_row1_col0\" class=\"data row1 col0\" >-0.338481</td>\n",
       "      <td id=\"T_7d9a8_row1_col1\" class=\"data row1 col1\" >1.000000</td>\n",
       "      <td id=\"T_7d9a8_row1_col2\" class=\"data row1 col2\" >-0.369226</td>\n",
       "      <td id=\"T_7d9a8_row1_col3\" class=\"data row1 col3\" >0.083081</td>\n",
       "      <td id=\"T_7d9a8_row1_col4\" class=\"data row1 col4\" >0.018443</td>\n",
       "      <td id=\"T_7d9a8_row1_col5\" class=\"data row1 col5\" >-0.549500</td>\n",
       "      <td id=\"T_7d9a8_row1_col6\" class=\"data row1 col6\" >-0.725541</td>\n",
       "    </tr>\n",
       "    <tr>\n",
       "      <th id=\"T_7d9a8_level0_row2\" class=\"row_heading level0 row2\" >age</th>\n",
       "      <td id=\"T_7d9a8_row2_col0\" class=\"data row2 col0\" >-0.077221</td>\n",
       "      <td id=\"T_7d9a8_row2_col1\" class=\"data row2 col1\" >-0.369226</td>\n",
       "      <td id=\"T_7d9a8_row2_col2\" class=\"data row2 col2\" >1.000000</td>\n",
       "      <td id=\"T_7d9a8_row2_col3\" class=\"data row2 col3\" >-0.308247</td>\n",
       "      <td id=\"T_7d9a8_row2_col4\" class=\"data row2 col4\" >-0.189119</td>\n",
       "      <td id=\"T_7d9a8_row2_col5\" class=\"data row2 col5\" >0.096067</td>\n",
       "      <td id=\"T_7d9a8_row2_col6\" class=\"data row2 col6\" >0.249732</td>\n",
       "    </tr>\n",
       "    <tr>\n",
       "      <th id=\"T_7d9a8_level0_row3\" class=\"row_heading level0 row3\" >sibsp</th>\n",
       "      <td id=\"T_7d9a8_row3_col0\" class=\"data row3 col0\" >-0.035322</td>\n",
       "      <td id=\"T_7d9a8_row3_col1\" class=\"data row3 col1\" >0.083081</td>\n",
       "      <td id=\"T_7d9a8_row3_col2\" class=\"data row3 col2\" >-0.308247</td>\n",
       "      <td id=\"T_7d9a8_row3_col3\" class=\"data row3 col3\" >1.000000</td>\n",
       "      <td id=\"T_7d9a8_row3_col4\" class=\"data row3 col4\" >0.414838</td>\n",
       "      <td id=\"T_7d9a8_row3_col5\" class=\"data row3 col5\" >0.159651</td>\n",
       "      <td id=\"T_7d9a8_row3_col6\" class=\"data row3 col6\" >-0.040460</td>\n",
       "    </tr>\n",
       "    <tr>\n",
       "      <th id=\"T_7d9a8_level0_row4\" class=\"row_heading level0 row4\" >parch</th>\n",
       "      <td id=\"T_7d9a8_row4_col0\" class=\"data row4 col0\" >0.081629</td>\n",
       "      <td id=\"T_7d9a8_row4_col1\" class=\"data row4 col1\" >0.018443</td>\n",
       "      <td id=\"T_7d9a8_row4_col2\" class=\"data row4 col2\" >-0.189119</td>\n",
       "      <td id=\"T_7d9a8_row4_col3\" class=\"data row4 col3\" >0.414838</td>\n",
       "      <td id=\"T_7d9a8_row4_col4\" class=\"data row4 col4\" >1.000000</td>\n",
       "      <td id=\"T_7d9a8_row4_col5\" class=\"data row4 col5\" >0.216225</td>\n",
       "      <td id=\"T_7d9a8_row4_col6\" class=\"data row4 col6\" >0.036987</td>\n",
       "    </tr>\n",
       "    <tr>\n",
       "      <th id=\"T_7d9a8_level0_row5\" class=\"row_heading level0 row5\" >fare</th>\n",
       "      <td id=\"T_7d9a8_row5_col0\" class=\"data row5 col0\" >0.257307</td>\n",
       "      <td id=\"T_7d9a8_row5_col1\" class=\"data row5 col1\" >-0.549500</td>\n",
       "      <td id=\"T_7d9a8_row5_col2\" class=\"data row5 col2\" >0.096067</td>\n",
       "      <td id=\"T_7d9a8_row5_col3\" class=\"data row5 col3\" >0.159651</td>\n",
       "      <td id=\"T_7d9a8_row5_col4\" class=\"data row5 col4\" >0.216225</td>\n",
       "      <td id=\"T_7d9a8_row5_col5\" class=\"data row5 col5\" >1.000000</td>\n",
       "      <td id=\"T_7d9a8_row5_col6\" class=\"data row5 col6\" >0.482075</td>\n",
       "    </tr>\n",
       "    <tr>\n",
       "      <th id=\"T_7d9a8_level0_row6\" class=\"row_heading level0 row6\" >cabin</th>\n",
       "      <td id=\"T_7d9a8_row6_col0\" class=\"data row6 col0\" >0.316912</td>\n",
       "      <td id=\"T_7d9a8_row6_col1\" class=\"data row6 col1\" >-0.725541</td>\n",
       "      <td id=\"T_7d9a8_row6_col2\" class=\"data row6 col2\" >0.249732</td>\n",
       "      <td id=\"T_7d9a8_row6_col3\" class=\"data row6 col3\" >-0.040460</td>\n",
       "      <td id=\"T_7d9a8_row6_col4\" class=\"data row6 col4\" >0.036987</td>\n",
       "      <td id=\"T_7d9a8_row6_col5\" class=\"data row6 col5\" >0.482075</td>\n",
       "      <td id=\"T_7d9a8_row6_col6\" class=\"data row6 col6\" >1.000000</td>\n",
       "    </tr>\n",
       "  </tbody>\n",
       "</table>\n"
      ],
      "text/plain": [
       "<pandas.io.formats.style.Styler at 0x7f15d63f9690>"
      ]
     },
     "execution_count": 13,
     "metadata": {},
     "output_type": "execute_result"
    }
   ],
   "source": [
    "train.corr().style.background_gradient(low=0.1, cmap='YlOrBr')"
   ]
  },
  {
   "cell_type": "code",
   "execution_count": 14,
   "id": "6c263e80",
   "metadata": {
    "execution": {
     "iopub.execute_input": "2023-01-22T10:37:54.938072Z",
     "iopub.status.busy": "2023-01-22T10:37:54.936979Z",
     "iopub.status.idle": "2023-01-22T10:38:06.219657Z",
     "shell.execute_reply": "2023-01-22T10:38:06.218186Z"
    },
    "papermill": {
     "duration": 11.306487,
     "end_time": "2023-01-22T10:38:06.222599",
     "exception": false,
     "start_time": "2023-01-22T10:37:54.916112",
     "status": "completed"
    },
    "tags": []
   },
   "outputs": [
    {
     "data": {
      "text/html": [
       "<style type=\"text/css\">\n",
       "#T_ac41c_row0_col0, #T_ac41c_row1_col1, #T_ac41c_row1_col7, #T_ac41c_row2_col0, #T_ac41c_row2_col1, #T_ac41c_row2_col3, #T_ac41c_row2_col4, #T_ac41c_row2_col5, #T_ac41c_row2_col6, #T_ac41c_row2_col7, #T_ac41c_row2_col8, #T_ac41c_row2_col9, #T_ac41c_row2_col10, #T_ac41c_row3_col3, #T_ac41c_row4_col4, #T_ac41c_row5_col5, #T_ac41c_row6_col6, #T_ac41c_row7_col1, #T_ac41c_row7_col7, #T_ac41c_row7_col8, #T_ac41c_row7_col10, #T_ac41c_row8_col7, #T_ac41c_row8_col8, #T_ac41c_row9_col9, #T_ac41c_row10_col7, #T_ac41c_row10_col10 {\n",
       "  background-color: #662506;\n",
       "  color: #f1f1f1;\n",
       "}\n",
       "#T_ac41c_row0_col1 {\n",
       "  background-color: #fee18c;\n",
       "  color: #000000;\n",
       "}\n",
       "#T_ac41c_row0_col2, #T_ac41c_row1_col2, #T_ac41c_row2_col2, #T_ac41c_row3_col2, #T_ac41c_row4_col2, #T_ac41c_row5_col2, #T_ac41c_row6_col2, #T_ac41c_row7_col2, #T_ac41c_row8_col2, #T_ac41c_row9_col2, #T_ac41c_row10_col2 {\n",
       "  background-color: #ffffe5;\n",
       "  color: #000000;\n",
       "}\n",
       "#T_ac41c_row0_col3 {\n",
       "  background-color: #c34802;\n",
       "  color: #f1f1f1;\n",
       "}\n",
       "#T_ac41c_row0_col4 {\n",
       "  background-color: #ffeea9;\n",
       "  color: #000000;\n",
       "}\n",
       "#T_ac41c_row0_col5, #T_ac41c_row6_col0, #T_ac41c_row10_col9 {\n",
       "  background-color: #fff4b6;\n",
       "  color: #000000;\n",
       "}\n",
       "#T_ac41c_row0_col6 {\n",
       "  background-color: #fee799;\n",
       "  color: #000000;\n",
       "}\n",
       "#T_ac41c_row0_col7 {\n",
       "  background-color: #bb4403;\n",
       "  color: #f1f1f1;\n",
       "}\n",
       "#T_ac41c_row0_col8, #T_ac41c_row1_col0 {\n",
       "  background-color: #feeba2;\n",
       "  color: #000000;\n",
       "}\n",
       "#T_ac41c_row0_col9 {\n",
       "  background-color: #fea332;\n",
       "  color: #000000;\n",
       "}\n",
       "#T_ac41c_row0_col10, #T_ac41c_row1_col6 {\n",
       "  background-color: #fff7be;\n",
       "  color: #000000;\n",
       "}\n",
       "#T_ac41c_row1_col3, #T_ac41c_row10_col6 {\n",
       "  background-color: #fff1b0;\n",
       "  color: #000000;\n",
       "}\n",
       "#T_ac41c_row1_col4, #T_ac41c_row5_col4, #T_ac41c_row6_col4 {\n",
       "  background-color: #febd49;\n",
       "  color: #000000;\n",
       "}\n",
       "#T_ac41c_row1_col5 {\n",
       "  background-color: #ffeea8;\n",
       "  color: #000000;\n",
       "}\n",
       "#T_ac41c_row1_col8 {\n",
       "  background-color: #f68820;\n",
       "  color: #f1f1f1;\n",
       "}\n",
       "#T_ac41c_row1_col9 {\n",
       "  background-color: #fa8f24;\n",
       "  color: #f1f1f1;\n",
       "}\n",
       "#T_ac41c_row1_col10 {\n",
       "  background-color: #f17c1a;\n",
       "  color: #f1f1f1;\n",
       "}\n",
       "#T_ac41c_row3_col0 {\n",
       "  background-color: #cc4c02;\n",
       "  color: #f1f1f1;\n",
       "}\n",
       "#T_ac41c_row3_col1 {\n",
       "  background-color: #fff5b8;\n",
       "  color: #000000;\n",
       "}\n",
       "#T_ac41c_row3_col4 {\n",
       "  background-color: #fff8c1;\n",
       "  color: #000000;\n",
       "}\n",
       "#T_ac41c_row3_col5, #T_ac41c_row10_col3 {\n",
       "  background-color: #fff3b2;\n",
       "  color: #000000;\n",
       "}\n",
       "#T_ac41c_row3_col6, #T_ac41c_row6_col3 {\n",
       "  background-color: #fed778;\n",
       "  color: #000000;\n",
       "}\n",
       "#T_ac41c_row3_col7, #T_ac41c_row3_col10, #T_ac41c_row4_col8, #T_ac41c_row6_col1, #T_ac41c_row6_col7, #T_ac41c_row6_col9, #T_ac41c_row7_col3, #T_ac41c_row7_col6, #T_ac41c_row9_col5, #T_ac41c_row10_col0, #T_ac41c_row10_col4 {\n",
       "  background-color: #fff9c7;\n",
       "  color: #000000;\n",
       "}\n",
       "#T_ac41c_row3_col8 {\n",
       "  background-color: #fff8c4;\n",
       "  color: #000000;\n",
       "}\n",
       "#T_ac41c_row3_col9, #T_ac41c_row4_col3 {\n",
       "  background-color: #feeaa0;\n",
       "  color: #000000;\n",
       "}\n",
       "#T_ac41c_row4_col0 {\n",
       "  background-color: #feeca5;\n",
       "  color: #000000;\n",
       "}\n",
       "#T_ac41c_row4_col1 {\n",
       "  background-color: #feab39;\n",
       "  color: #000000;\n",
       "}\n",
       "#T_ac41c_row4_col5 {\n",
       "  background-color: #fec14c;\n",
       "  color: #000000;\n",
       "}\n",
       "#T_ac41c_row4_col6, #T_ac41c_row9_col0 {\n",
       "  background-color: #fea634;\n",
       "  color: #000000;\n",
       "}\n",
       "#T_ac41c_row4_col7 {\n",
       "  background-color: #b03f03;\n",
       "  color: #f1f1f1;\n",
       "}\n",
       "#T_ac41c_row4_col9 {\n",
       "  background-color: #fecc61;\n",
       "  color: #000000;\n",
       "}\n",
       "#T_ac41c_row4_col10, #T_ac41c_row5_col9 {\n",
       "  background-color: #fff6ba;\n",
       "  color: #000000;\n",
       "}\n",
       "#T_ac41c_row5_col0 {\n",
       "  background-color: #fff0ad;\n",
       "  color: #000000;\n",
       "}\n",
       "#T_ac41c_row5_col1 {\n",
       "  background-color: #fedf88;\n",
       "  color: #000000;\n",
       "}\n",
       "#T_ac41c_row5_col3, #T_ac41c_row8_col0 {\n",
       "  background-color: #fee08a;\n",
       "  color: #000000;\n",
       "}\n",
       "#T_ac41c_row5_col6 {\n",
       "  background-color: #eb6f14;\n",
       "  color: #f1f1f1;\n",
       "}\n",
       "#T_ac41c_row5_col7 {\n",
       "  background-color: #963304;\n",
       "  color: #f1f1f1;\n",
       "}\n",
       "#T_ac41c_row5_col8 {\n",
       "  background-color: #feaa38;\n",
       "  color: #000000;\n",
       "}\n",
       "#T_ac41c_row5_col10, #T_ac41c_row9_col10 {\n",
       "  background-color: #fff2b1;\n",
       "  color: #000000;\n",
       "}\n",
       "#T_ac41c_row6_col5 {\n",
       "  background-color: #f4811d;\n",
       "  color: #f1f1f1;\n",
       "}\n",
       "#T_ac41c_row6_col8 {\n",
       "  background-color: #fedd84;\n",
       "  color: #000000;\n",
       "}\n",
       "#T_ac41c_row6_col10, #T_ac41c_row10_col5 {\n",
       "  background-color: #fff9c5;\n",
       "  color: #000000;\n",
       "}\n",
       "#T_ac41c_row7_col0 {\n",
       "  background-color: #c44802;\n",
       "  color: #f1f1f1;\n",
       "}\n",
       "#T_ac41c_row7_col4 {\n",
       "  background-color: #b94303;\n",
       "  color: #f1f1f1;\n",
       "}\n",
       "#T_ac41c_row7_col5 {\n",
       "  background-color: #9c3604;\n",
       "  color: #f1f1f1;\n",
       "}\n",
       "#T_ac41c_row7_col9 {\n",
       "  background-color: #6e2706;\n",
       "  color: #f1f1f1;\n",
       "}\n",
       "#T_ac41c_row8_col1 {\n",
       "  background-color: #ed7316;\n",
       "  color: #f1f1f1;\n",
       "}\n",
       "#T_ac41c_row8_col3 {\n",
       "  background-color: #fee28e;\n",
       "  color: #000000;\n",
       "}\n",
       "#T_ac41c_row8_col4 {\n",
       "  background-color: #fff3b4;\n",
       "  color: #000000;\n",
       "}\n",
       "#T_ac41c_row8_col5 {\n",
       "  background-color: #fea030;\n",
       "  color: #000000;\n",
       "}\n",
       "#T_ac41c_row8_col6 {\n",
       "  background-color: #febb47;\n",
       "  color: #000000;\n",
       "}\n",
       "#T_ac41c_row8_col9 {\n",
       "  background-color: #f88b22;\n",
       "  color: #f1f1f1;\n",
       "}\n",
       "#T_ac41c_row8_col10 {\n",
       "  background-color: #fed87a;\n",
       "  color: #000000;\n",
       "}\n",
       "#T_ac41c_row9_col1 {\n",
       "  background-color: #f5851f;\n",
       "  color: #f1f1f1;\n",
       "}\n",
       "#T_ac41c_row9_col3 {\n",
       "  background-color: #fedb80;\n",
       "  color: #000000;\n",
       "}\n",
       "#T_ac41c_row9_col4 {\n",
       "  background-color: #fed069;\n",
       "  color: #000000;\n",
       "}\n",
       "#T_ac41c_row9_col6 {\n",
       "  background-color: #ffefac;\n",
       "  color: #000000;\n",
       "}\n",
       "#T_ac41c_row9_col7 {\n",
       "  background-color: #6c2706;\n",
       "  color: #f1f1f1;\n",
       "}\n",
       "#T_ac41c_row9_col8 {\n",
       "  background-color: #fe9a2a;\n",
       "  color: #000000;\n",
       "}\n",
       "#T_ac41c_row10_col1 {\n",
       "  background-color: #ee7617;\n",
       "  color: #f1f1f1;\n",
       "}\n",
       "#T_ac41c_row10_col8 {\n",
       "  background-color: #fee99e;\n",
       "  color: #000000;\n",
       "}\n",
       "</style>\n",
       "<table id=\"T_ac41c_\">\n",
       "  <thead>\n",
       "    <tr>\n",
       "      <th class=\"blank level0\" >&nbsp;</th>\n",
       "      <th class=\"col_heading level0 col0\" >survived</th>\n",
       "      <th class=\"col_heading level0 col1\" >pclass</th>\n",
       "      <th class=\"col_heading level0 col2\" >name</th>\n",
       "      <th class=\"col_heading level0 col3\" >sex</th>\n",
       "      <th class=\"col_heading level0 col4\" >age</th>\n",
       "      <th class=\"col_heading level0 col5\" >sibsp</th>\n",
       "      <th class=\"col_heading level0 col6\" >parch</th>\n",
       "      <th class=\"col_heading level0 col7\" >ticket</th>\n",
       "      <th class=\"col_heading level0 col8\" >fare</th>\n",
       "      <th class=\"col_heading level0 col9\" >cabin</th>\n",
       "      <th class=\"col_heading level0 col10\" >embarked</th>\n",
       "    </tr>\n",
       "  </thead>\n",
       "  <tbody>\n",
       "    <tr>\n",
       "      <th id=\"T_ac41c_level0_row0\" class=\"row_heading level0 row0\" >survived</th>\n",
       "      <td id=\"T_ac41c_row0_col0\" class=\"data row0 col0\" >1.000000</td>\n",
       "      <td id=\"T_ac41c_row0_col1\" class=\"data row0 col1\" >0.210000</td>\n",
       "      <td id=\"T_ac41c_row0_col2\" class=\"data row0 col2\" >1.000000</td>\n",
       "      <td id=\"T_ac41c_row0_col3\" class=\"data row0 col3\" >0.750000</td>\n",
       "      <td id=\"T_ac41c_row0_col4\" class=\"data row0 col4\" >0.200000</td>\n",
       "      <td id=\"T_ac41c_row0_col5\" class=\"data row0 col5\" >0.180000</td>\n",
       "      <td id=\"T_ac41c_row0_col6\" class=\"data row0 col6\" >0.150000</td>\n",
       "      <td id=\"T_ac41c_row0_col7\" class=\"data row0 col7\" >0.770000</td>\n",
       "      <td id=\"T_ac41c_row0_col8\" class=\"data row0 col8\" >0.270000</td>\n",
       "      <td id=\"T_ac41c_row0_col9\" class=\"data row0 col9\" >0.470000</td>\n",
       "      <td id=\"T_ac41c_row0_col10\" class=\"data row0 col10\" >0.100000</td>\n",
       "    </tr>\n",
       "    <tr>\n",
       "      <th id=\"T_ac41c_level0_row1\" class=\"row_heading level0 row1\" >pclass</th>\n",
       "      <td id=\"T_ac41c_row1_col0\" class=\"data row1 col0\" >0.210000</td>\n",
       "      <td id=\"T_ac41c_row1_col1\" class=\"data row1 col1\" >1.000000</td>\n",
       "      <td id=\"T_ac41c_row1_col2\" class=\"data row1 col2\" >1.000000</td>\n",
       "      <td id=\"T_ac41c_row1_col3\" class=\"data row1 col3\" >0.080000</td>\n",
       "      <td id=\"T_ac41c_row1_col4\" class=\"data row1 col4\" >0.410000</td>\n",
       "      <td id=\"T_ac41c_row1_col5\" class=\"data row1 col5\" >0.220000</td>\n",
       "      <td id=\"T_ac41c_row1_col6\" class=\"data row1 col6\" >0.030000</td>\n",
       "      <td id=\"T_ac41c_row1_col7\" class=\"data row1 col7\" >1.000000</td>\n",
       "      <td id=\"T_ac41c_row1_col8\" class=\"data row1 col8\" >0.590000</td>\n",
       "      <td id=\"T_ac41c_row1_col9\" class=\"data row1 col9\" >0.530000</td>\n",
       "      <td id=\"T_ac41c_row1_col10\" class=\"data row1 col10\" >0.580000</td>\n",
       "    </tr>\n",
       "    <tr>\n",
       "      <th id=\"T_ac41c_level0_row2\" class=\"row_heading level0 row2\" >name</th>\n",
       "      <td id=\"T_ac41c_row2_col0\" class=\"data row2 col0\" >1.000000</td>\n",
       "      <td id=\"T_ac41c_row2_col1\" class=\"data row2 col1\" >1.000000</td>\n",
       "      <td id=\"T_ac41c_row2_col2\" class=\"data row2 col2\" >1.000000</td>\n",
       "      <td id=\"T_ac41c_row2_col3\" class=\"data row2 col3\" >1.000000</td>\n",
       "      <td id=\"T_ac41c_row2_col4\" class=\"data row2 col4\" >1.000000</td>\n",
       "      <td id=\"T_ac41c_row2_col5\" class=\"data row2 col5\" >1.000000</td>\n",
       "      <td id=\"T_ac41c_row2_col6\" class=\"data row2 col6\" >1.000000</td>\n",
       "      <td id=\"T_ac41c_row2_col7\" class=\"data row2 col7\" >1.000000</td>\n",
       "      <td id=\"T_ac41c_row2_col8\" class=\"data row2 col8\" >1.000000</td>\n",
       "      <td id=\"T_ac41c_row2_col9\" class=\"data row2 col9\" >1.000000</td>\n",
       "      <td id=\"T_ac41c_row2_col10\" class=\"data row2 col10\" >1.000000</td>\n",
       "    </tr>\n",
       "    <tr>\n",
       "      <th id=\"T_ac41c_level0_row3\" class=\"row_heading level0 row3\" >sex</th>\n",
       "      <td id=\"T_ac41c_row3_col0\" class=\"data row3 col0\" >0.750000</td>\n",
       "      <td id=\"T_ac41c_row3_col1\" class=\"data row3 col1\" >0.080000</td>\n",
       "      <td id=\"T_ac41c_row3_col2\" class=\"data row3 col2\" >1.000000</td>\n",
       "      <td id=\"T_ac41c_row3_col3\" class=\"data row3 col3\" >1.000000</td>\n",
       "      <td id=\"T_ac41c_row3_col4\" class=\"data row3 col4\" >0.130000</td>\n",
       "      <td id=\"T_ac41c_row3_col5\" class=\"data row3 col5\" >0.190000</td>\n",
       "      <td id=\"T_ac41c_row3_col6\" class=\"data row3 col6\" >0.230000</td>\n",
       "      <td id=\"T_ac41c_row3_col7\" class=\"data row3 col7\" >0.000000</td>\n",
       "      <td id=\"T_ac41c_row3_col8\" class=\"data row3 col8\" >0.180000</td>\n",
       "      <td id=\"T_ac41c_row3_col9\" class=\"data row3 col9\" >0.210000</td>\n",
       "      <td id=\"T_ac41c_row3_col10\" class=\"data row3 col10\" >0.070000</td>\n",
       "    </tr>\n",
       "    <tr>\n",
       "      <th id=\"T_ac41c_level0_row4\" class=\"row_heading level0 row4\" >age</th>\n",
       "      <td id=\"T_ac41c_row4_col0\" class=\"data row4 col0\" >0.200000</td>\n",
       "      <td id=\"T_ac41c_row4_col1\" class=\"data row4 col1\" >0.410000</td>\n",
       "      <td id=\"T_ac41c_row4_col2\" class=\"data row4 col2\" >1.000000</td>\n",
       "      <td id=\"T_ac41c_row4_col3\" class=\"data row4 col3\" >0.130000</td>\n",
       "      <td id=\"T_ac41c_row4_col4\" class=\"data row4 col4\" >1.000000</td>\n",
       "      <td id=\"T_ac41c_row4_col5\" class=\"data row4 col5\" >0.410000</td>\n",
       "      <td id=\"T_ac41c_row4_col6\" class=\"data row4 col6\" >0.410000</td>\n",
       "      <td id=\"T_ac41c_row4_col7\" class=\"data row4 col7\" >0.800000</td>\n",
       "      <td id=\"T_ac41c_row4_col8\" class=\"data row4 col8\" >0.170000</td>\n",
       "      <td id=\"T_ac41c_row4_col9\" class=\"data row4 col9\" >0.340000</td>\n",
       "      <td id=\"T_ac41c_row4_col10\" class=\"data row4 col10\" >0.110000</td>\n",
       "    </tr>\n",
       "    <tr>\n",
       "      <th id=\"T_ac41c_level0_row5\" class=\"row_heading level0 row5\" >sibsp</th>\n",
       "      <td id=\"T_ac41c_row5_col0\" class=\"data row5 col0\" >0.180000</td>\n",
       "      <td id=\"T_ac41c_row5_col1\" class=\"data row5 col1\" >0.220000</td>\n",
       "      <td id=\"T_ac41c_row5_col2\" class=\"data row5 col2\" >1.000000</td>\n",
       "      <td id=\"T_ac41c_row5_col3\" class=\"data row5 col3\" >0.190000</td>\n",
       "      <td id=\"T_ac41c_row5_col4\" class=\"data row5 col4\" >0.410000</td>\n",
       "      <td id=\"T_ac41c_row5_col5\" class=\"data row5 col5\" >1.000000</td>\n",
       "      <td id=\"T_ac41c_row5_col6\" class=\"data row5 col6\" >0.590000</td>\n",
       "      <td id=\"T_ac41c_row5_col7\" class=\"data row5 col7\" >0.870000</td>\n",
       "      <td id=\"T_ac41c_row5_col8\" class=\"data row5 col8\" >0.500000</td>\n",
       "      <td id=\"T_ac41c_row5_col9\" class=\"data row5 col9\" >0.130000</td>\n",
       "      <td id=\"T_ac41c_row5_col10\" class=\"data row5 col10\" >0.140000</td>\n",
       "    </tr>\n",
       "    <tr>\n",
       "      <th id=\"T_ac41c_level0_row6\" class=\"row_heading level0 row6\" >parch</th>\n",
       "      <td id=\"T_ac41c_row6_col0\" class=\"data row6 col0\" >0.150000</td>\n",
       "      <td id=\"T_ac41c_row6_col1\" class=\"data row6 col1\" >0.030000</td>\n",
       "      <td id=\"T_ac41c_row6_col2\" class=\"data row6 col2\" >1.000000</td>\n",
       "      <td id=\"T_ac41c_row6_col3\" class=\"data row6 col3\" >0.230000</td>\n",
       "      <td id=\"T_ac41c_row6_col4\" class=\"data row6 col4\" >0.410000</td>\n",
       "      <td id=\"T_ac41c_row6_col5\" class=\"data row6 col5\" >0.590000</td>\n",
       "      <td id=\"T_ac41c_row6_col6\" class=\"data row6 col6\" >1.000000</td>\n",
       "      <td id=\"T_ac41c_row6_col7\" class=\"data row6 col7\" >0.000000</td>\n",
       "      <td id=\"T_ac41c_row6_col8\" class=\"data row6 col8\" >0.340000</td>\n",
       "      <td id=\"T_ac41c_row6_col9\" class=\"data row6 col9\" >0.090000</td>\n",
       "      <td id=\"T_ac41c_row6_col10\" class=\"data row6 col10\" >0.080000</td>\n",
       "    </tr>\n",
       "    <tr>\n",
       "      <th id=\"T_ac41c_level0_row7\" class=\"row_heading level0 row7\" >ticket</th>\n",
       "      <td id=\"T_ac41c_row7_col0\" class=\"data row7 col0\" >0.770000</td>\n",
       "      <td id=\"T_ac41c_row7_col1\" class=\"data row7 col1\" >1.000000</td>\n",
       "      <td id=\"T_ac41c_row7_col2\" class=\"data row7 col2\" >1.000000</td>\n",
       "      <td id=\"T_ac41c_row7_col3\" class=\"data row7 col3\" >0.000000</td>\n",
       "      <td id=\"T_ac41c_row7_col4\" class=\"data row7 col4\" >0.800000</td>\n",
       "      <td id=\"T_ac41c_row7_col5\" class=\"data row7 col5\" >0.870000</td>\n",
       "      <td id=\"T_ac41c_row7_col6\" class=\"data row7 col6\" >0.000000</td>\n",
       "      <td id=\"T_ac41c_row7_col7\" class=\"data row7 col7\" >1.000000</td>\n",
       "      <td id=\"T_ac41c_row7_col8\" class=\"data row7 col8\" >1.000000</td>\n",
       "      <td id=\"T_ac41c_row7_col9\" class=\"data row7 col9\" >0.980000</td>\n",
       "      <td id=\"T_ac41c_row7_col10\" class=\"data row7 col10\" >1.000000</td>\n",
       "    </tr>\n",
       "    <tr>\n",
       "      <th id=\"T_ac41c_level0_row8\" class=\"row_heading level0 row8\" >fare</th>\n",
       "      <td id=\"T_ac41c_row8_col0\" class=\"data row8 col0\" >0.270000</td>\n",
       "      <td id=\"T_ac41c_row8_col1\" class=\"data row8 col1\" >0.590000</td>\n",
       "      <td id=\"T_ac41c_row8_col2\" class=\"data row8 col2\" >1.000000</td>\n",
       "      <td id=\"T_ac41c_row8_col3\" class=\"data row8 col3\" >0.180000</td>\n",
       "      <td id=\"T_ac41c_row8_col4\" class=\"data row8 col4\" >0.170000</td>\n",
       "      <td id=\"T_ac41c_row8_col5\" class=\"data row8 col5\" >0.500000</td>\n",
       "      <td id=\"T_ac41c_row8_col6\" class=\"data row8 col6\" >0.340000</td>\n",
       "      <td id=\"T_ac41c_row8_col7\" class=\"data row8 col7\" >1.000000</td>\n",
       "      <td id=\"T_ac41c_row8_col8\" class=\"data row8 col8\" >1.000000</td>\n",
       "      <td id=\"T_ac41c_row8_col9\" class=\"data row8 col9\" >0.540000</td>\n",
       "      <td id=\"T_ac41c_row8_col10\" class=\"data row8 col10\" >0.280000</td>\n",
       "    </tr>\n",
       "    <tr>\n",
       "      <th id=\"T_ac41c_level0_row9\" class=\"row_heading level0 row9\" >cabin</th>\n",
       "      <td id=\"T_ac41c_row9_col0\" class=\"data row9 col0\" >0.470000</td>\n",
       "      <td id=\"T_ac41c_row9_col1\" class=\"data row9 col1\" >0.530000</td>\n",
       "      <td id=\"T_ac41c_row9_col2\" class=\"data row9 col2\" >1.000000</td>\n",
       "      <td id=\"T_ac41c_row9_col3\" class=\"data row9 col3\" >0.210000</td>\n",
       "      <td id=\"T_ac41c_row9_col4\" class=\"data row9 col4\" >0.340000</td>\n",
       "      <td id=\"T_ac41c_row9_col5\" class=\"data row9 col5\" >0.130000</td>\n",
       "      <td id=\"T_ac41c_row9_col6\" class=\"data row9 col6\" >0.090000</td>\n",
       "      <td id=\"T_ac41c_row9_col7\" class=\"data row9 col7\" >0.980000</td>\n",
       "      <td id=\"T_ac41c_row9_col8\" class=\"data row9 col8\" >0.540000</td>\n",
       "      <td id=\"T_ac41c_row9_col9\" class=\"data row9 col9\" >1.000000</td>\n",
       "      <td id=\"T_ac41c_row9_col10\" class=\"data row9 col10\" >0.140000</td>\n",
       "    </tr>\n",
       "    <tr>\n",
       "      <th id=\"T_ac41c_level0_row10\" class=\"row_heading level0 row10\" >embarked</th>\n",
       "      <td id=\"T_ac41c_row10_col0\" class=\"data row10 col0\" >0.100000</td>\n",
       "      <td id=\"T_ac41c_row10_col1\" class=\"data row10 col1\" >0.580000</td>\n",
       "      <td id=\"T_ac41c_row10_col2\" class=\"data row10 col2\" >1.000000</td>\n",
       "      <td id=\"T_ac41c_row10_col3\" class=\"data row10 col3\" >0.070000</td>\n",
       "      <td id=\"T_ac41c_row10_col4\" class=\"data row10 col4\" >0.110000</td>\n",
       "      <td id=\"T_ac41c_row10_col5\" class=\"data row10 col5\" >0.140000</td>\n",
       "      <td id=\"T_ac41c_row10_col6\" class=\"data row10 col6\" >0.080000</td>\n",
       "      <td id=\"T_ac41c_row10_col7\" class=\"data row10 col7\" >1.000000</td>\n",
       "      <td id=\"T_ac41c_row10_col8\" class=\"data row10 col8\" >0.280000</td>\n",
       "      <td id=\"T_ac41c_row10_col9\" class=\"data row10 col9\" >0.140000</td>\n",
       "      <td id=\"T_ac41c_row10_col10\" class=\"data row10 col10\" >1.000000</td>\n",
       "    </tr>\n",
       "  </tbody>\n",
       "</table>\n"
      ],
      "text/plain": [
       "<pandas.io.formats.style.Styler at 0x7f15d62c8610>"
      ]
     },
     "execution_count": 14,
     "metadata": {},
     "output_type": "execute_result"
    }
   ],
   "source": [
    "train.phik_matrix(interval_cols=['age', 'fare']).round(2).style.background_gradient(low=0.1, cmap='YlOrBr')"
   ]
  },
  {
   "cell_type": "markdown",
   "id": "83849097",
   "metadata": {
    "papermill": {
     "duration": 0.019901,
     "end_time": "2023-01-22T10:38:06.262806",
     "exception": false,
     "start_time": "2023-01-22T10:38:06.242905",
     "status": "completed"
    },
    "tags": []
   },
   "source": [
    "## <p style=\"background-color:#641216; font-family:Nexa; color:#e8f8f5; font-size:150%; text-align:center; border: 2.5px; border-style:solid; border-color:#210400; border-radius: 25px 5px;\">3. Datasets creation</p>"
   ]
  },
  {
   "cell_type": "code",
   "execution_count": 15,
   "id": "972d0af9",
   "metadata": {
    "execution": {
     "iopub.execute_input": "2023-01-22T10:38:06.305733Z",
     "iopub.status.busy": "2023-01-22T10:38:06.304971Z",
     "iopub.status.idle": "2023-01-22T10:38:06.312572Z",
     "shell.execute_reply": "2023-01-22T10:38:06.311408Z"
    },
    "papermill": {
     "duration": 0.031816,
     "end_time": "2023-01-22T10:38:06.314755",
     "exception": false,
     "start_time": "2023-01-22T10:38:06.282939",
     "status": "completed"
    },
    "tags": []
   },
   "outputs": [],
   "source": [
    "# функция для замены пропусков в возрасте\n",
    "def age_fillna(row):\n",
    "    sex = row['sex']\n",
    "    pcclass = row['pclass']\n",
    "    if sex == 'female':\n",
    "        if pcclass == 1:\n",
    "            return 34.611765\n",
    "        elif pcclass == 2:\n",
    "            return 28.722973\n",
    "        else:\n",
    "            return 21.75\n",
    "            \n",
    "    elif sex == 'male':\n",
    "        if pcclass == 1:\n",
    "            return 41.281386\n",
    "        elif pcclass == 2:\n",
    "            return 30.740707\n",
    "        else:\n",
    "            return 26.507589"
   ]
  },
  {
   "cell_type": "code",
   "execution_count": 16,
   "id": "c13d3292",
   "metadata": {
    "execution": {
     "iopub.execute_input": "2023-01-22T10:38:06.358216Z",
     "iopub.status.busy": "2023-01-22T10:38:06.357436Z",
     "iopub.status.idle": "2023-01-22T10:38:06.379907Z",
     "shell.execute_reply": "2023-01-22T10:38:06.378830Z"
    },
    "papermill": {
     "duration": 0.046489,
     "end_time": "2023-01-22T10:38:06.382317",
     "exception": false,
     "start_time": "2023-01-22T10:38:06.335828",
     "status": "completed"
    },
    "tags": []
   },
   "outputs": [],
   "source": [
    "train['embarked'] = train['embarked'].fillna('S')\n",
    "train['age'] = train['age'].fillna(train.apply(age_fillna, axis=1))"
   ]
  },
  {
   "cell_type": "code",
   "execution_count": 17,
   "id": "42f560ce",
   "metadata": {
    "execution": {
     "iopub.execute_input": "2023-01-22T10:38:06.425139Z",
     "iopub.status.busy": "2023-01-22T10:38:06.424743Z",
     "iopub.status.idle": "2023-01-22T10:38:06.432268Z",
     "shell.execute_reply": "2023-01-22T10:38:06.431215Z"
    },
    "papermill": {
     "duration": 0.031302,
     "end_time": "2023-01-22T10:38:06.434272",
     "exception": false,
     "start_time": "2023-01-22T10:38:06.402970",
     "status": "completed"
    },
    "tags": []
   },
   "outputs": [],
   "source": [
    "# функция для подготовки сетов\n",
    "def make_df(table, chek):\n",
    "    df = table.copy()\n",
    "# заменим пропуски\n",
    "    df['embarked'] = df['embarked'].fillna('N')\n",
    "    df['age'] = df['age'].fillna(df.apply(age_fillna, axis=1))\n",
    "# сменим тип данных\n",
    "    for c in df.select_dtypes(include=['object', 'category']).columns:\n",
    "        df[c] = df[c].astype('category')  \n",
    "        \n",
    "    if chek == 0:\n",
    "        y_df = df[['survived']]\n",
    "        X_df = df.drop(['name', 'ticket', 'survived'], axis=1)\n",
    "        return X_df, y_df\n",
    "    else:\n",
    "        X_df = df.drop(['name', 'ticket'], axis=1)\n",
    "        return X_df"
   ]
  },
  {
   "cell_type": "code",
   "execution_count": 18,
   "id": "ceb4f2e0",
   "metadata": {
    "execution": {
     "iopub.execute_input": "2023-01-22T10:38:06.476965Z",
     "iopub.status.busy": "2023-01-22T10:38:06.476138Z",
     "iopub.status.idle": "2023-01-22T10:38:06.517859Z",
     "shell.execute_reply": "2023-01-22T10:38:06.516661Z"
    },
    "papermill": {
     "duration": 0.065708,
     "end_time": "2023-01-22T10:38:06.520353",
     "exception": false,
     "start_time": "2023-01-22T10:38:06.454645",
     "status": "completed"
    },
    "tags": []
   },
   "outputs": [],
   "source": [
    "X_df, y_df = make_df(train, 0)\n",
    "X_test = make_df(test, 1)"
   ]
  },
  {
   "cell_type": "code",
   "execution_count": 19,
   "id": "55b7ddfb",
   "metadata": {
    "execution": {
     "iopub.execute_input": "2023-01-22T10:38:06.563520Z",
     "iopub.status.busy": "2023-01-22T10:38:06.563086Z",
     "iopub.status.idle": "2023-01-22T10:38:06.577705Z",
     "shell.execute_reply": "2023-01-22T10:38:06.576598Z"
    },
    "papermill": {
     "duration": 0.039054,
     "end_time": "2023-01-22T10:38:06.580330",
     "exception": false,
     "start_time": "2023-01-22T10:38:06.541276",
     "status": "completed"
    },
    "tags": []
   },
   "outputs": [],
   "source": [
    "X_test.loc[X_test['fare'].isna(), 'fare'] = X_test.query('pclass == 3 and embarked == \"S\"')['fare'].mean()"
   ]
  },
  {
   "cell_type": "code",
   "execution_count": 20,
   "id": "eb24509a",
   "metadata": {
    "execution": {
     "iopub.execute_input": "2023-01-22T10:38:06.623326Z",
     "iopub.status.busy": "2023-01-22T10:38:06.622894Z",
     "iopub.status.idle": "2023-01-22T10:38:06.629394Z",
     "shell.execute_reply": "2023-01-22T10:38:06.628327Z"
    },
    "papermill": {
     "duration": 0.030887,
     "end_time": "2023-01-22T10:38:06.631872",
     "exception": false,
     "start_time": "2023-01-22T10:38:06.600985",
     "status": "completed"
    },
    "tags": []
   },
   "outputs": [],
   "source": [
    "def make_woe_encoder(X):\n",
    "    woe_encoder = WoEEncoder(variables=cat_features) \n",
    "    woe_encoder.fit(X_df, y_df)\n",
    "    X = woe_encoder.transform(X)\n",
    "    return X\n",
    "def make_my_pipline(df):\n",
    "    new_df = make_woe_encoder(df.copy())\n",
    "    new_df[numeric_features] = StandardScaler().fit(new_df[numeric_features]).transform(new_df[numeric_features])\n",
    "    return new_df"
   ]
  },
  {
   "cell_type": "code",
   "execution_count": 21,
   "id": "776ebfd8",
   "metadata": {
    "execution": {
     "iopub.execute_input": "2023-01-22T10:38:06.675062Z",
     "iopub.status.busy": "2023-01-22T10:38:06.674664Z",
     "iopub.status.idle": "2023-01-22T10:38:06.686274Z",
     "shell.execute_reply": "2023-01-22T10:38:06.684984Z"
    },
    "papermill": {
     "duration": 0.035745,
     "end_time": "2023-01-22T10:38:06.688470",
     "exception": false,
     "start_time": "2023-01-22T10:38:06.652725",
     "status": "completed"
    },
    "tags": []
   },
   "outputs": [
    {
     "data": {
      "text/plain": [
       "(['pclass', 'age', 'sibsp', 'parch', 'fare', 'cabin'], ['sex', 'embarked'])"
      ]
     },
     "execution_count": 21,
     "metadata": {},
     "output_type": "execute_result"
    }
   ],
   "source": [
    "numeric_features = list(X_df.select_dtypes(include='number').columns)\n",
    "cat_features = list(X_df.select_dtypes(include='category').columns)\n",
    "numeric_features, cat_features"
   ]
  },
  {
   "cell_type": "code",
   "execution_count": 22,
   "id": "43152aa1",
   "metadata": {
    "execution": {
     "iopub.execute_input": "2023-01-22T10:38:06.731847Z",
     "iopub.status.busy": "2023-01-22T10:38:06.731425Z",
     "iopub.status.idle": "2023-01-22T10:38:06.791324Z",
     "shell.execute_reply": "2023-01-22T10:38:06.790361Z"
    },
    "papermill": {
     "duration": 0.084804,
     "end_time": "2023-01-22T10:38:06.794035",
     "exception": false,
     "start_time": "2023-01-22T10:38:06.709231",
     "status": "completed"
    },
    "tags": []
   },
   "outputs": [],
   "source": [
    "X_df_pl = make_my_pipline(X_df)\n",
    "X_test_pl = make_my_pipline(X_test)"
   ]
  },
  {
   "cell_type": "code",
   "execution_count": 23,
   "id": "8915e6df",
   "metadata": {
    "execution": {
     "iopub.execute_input": "2023-01-22T10:38:06.837648Z",
     "iopub.status.busy": "2023-01-22T10:38:06.836896Z",
     "iopub.status.idle": "2023-01-22T10:38:06.847114Z",
     "shell.execute_reply": "2023-01-22T10:38:06.846030Z"
    },
    "papermill": {
     "duration": 0.034324,
     "end_time": "2023-01-22T10:38:06.849231",
     "exception": false,
     "start_time": "2023-01-22T10:38:06.814907",
     "status": "completed"
    },
    "tags": []
   },
   "outputs": [
    {
     "data": {
      "text/plain": [
       "((668, 8), (668, 1), (223, 8), (223, 1))"
      ]
     },
     "execution_count": 23,
     "metadata": {},
     "output_type": "execute_result"
    }
   ],
   "source": [
    "X_train, X_val, y_train, y_val = train_test_split(X_df_pl, y_df, test_size=0.25, random_state=random_state)\n",
    "X_train.shape, y_train.shape, X_val.shape, y_val.shape"
   ]
  },
  {
   "cell_type": "markdown",
   "id": "506d23a9",
   "metadata": {
    "papermill": {
     "duration": 0.020263,
     "end_time": "2023-01-22T10:38:06.890454",
     "exception": false,
     "start_time": "2023-01-22T10:38:06.870191",
     "status": "completed"
    },
    "tags": []
   },
   "source": [
    "## <p style=\"background-color:#641216; font-family:Nexa; color:#e8f8f5; font-size:150%; text-align:center; border: 2.5px; border-style:solid; border-color:#210400; border-radius: 25px 5px;\">4. Selection of hyperparameters</p>"
   ]
  },
  {
   "cell_type": "code",
   "execution_count": 24,
   "id": "fbf20a51",
   "metadata": {
    "execution": {
     "iopub.execute_input": "2023-01-22T10:38:06.933464Z",
     "iopub.status.busy": "2023-01-22T10:38:06.933032Z",
     "iopub.status.idle": "2023-01-22T10:38:06.937951Z",
     "shell.execute_reply": "2023-01-22T10:38:06.936895Z"
    },
    "papermill": {
     "duration": 0.028828,
     "end_time": "2023-01-22T10:38:06.940009",
     "exception": false,
     "start_time": "2023-01-22T10:38:06.911181",
     "status": "completed"
    },
    "tags": []
   },
   "outputs": [],
   "source": [
    "models_results = {\n",
    "            'model': [],\n",
    "            'accurasy': []\n",
    "        }"
   ]
  },
  {
   "cell_type": "markdown",
   "id": "3d284a74",
   "metadata": {
    "papermill": {
     "duration": 0.020559,
     "end_time": "2023-01-22T10:38:06.981544",
     "exception": false,
     "start_time": "2023-01-22T10:38:06.960985",
     "status": "completed"
    },
    "tags": []
   },
   "source": [
    "### <p style=\"background-color:#641216; font-family:Nexa; color:#e8f8f5; font-size:120%; text-align:left; border: 2.5px; border-style:solid; border-color:#210400; border-radius: 5px 5px;\">4.1. Catboost</p>"
   ]
  },
  {
   "cell_type": "code",
   "execution_count": 25,
   "id": "5b8e5f44",
   "metadata": {
    "execution": {
     "iopub.execute_input": "2023-01-22T10:38:07.024292Z",
     "iopub.status.busy": "2023-01-22T10:38:07.023676Z",
     "iopub.status.idle": "2023-01-22T10:38:18.162551Z",
     "shell.execute_reply": "2023-01-22T10:38:18.161635Z"
    },
    "papermill": {
     "duration": 11.162922,
     "end_time": "2023-01-22T10:38:18.164967",
     "exception": false,
     "start_time": "2023-01-22T10:38:07.002045",
     "status": "completed"
    },
    "tags": []
   },
   "outputs": [
    {
     "data": {
      "text/plain": [
       "{'learning_rate': 0.01, 'l2_leaf_reg': 2, 'iterations': 450, 'depth': 6}"
      ]
     },
     "execution_count": 25,
     "metadata": {},
     "output_type": "execute_result"
    }
   ],
   "source": [
    "# подберем гипперпарметры для модели\n",
    "fit_params = dict(early_stopping_rounds = 20,\n",
    "                  eval_set = [(X_train, y_train), (X_val, y_val)], \n",
    "                  verbose = False)\n",
    "cbc = CatBoostClassifier(random_state=random_state\n",
    "                         , auto_class_weights='Balanced')\n",
    "parameters = {'depth': range(2,9,2),\n",
    "              'learning_rate': [.01, .1],\n",
    "              'iterations': range(50,501,50),\n",
    "              'l2_leaf_reg': range(2,7,2)\n",
    "             }\n",
    "grid_cbc = RandomizedSearchCV(cbc, parameters, scoring='accuracy', cv=5)\n",
    "grid_cbc.fit(X_train, y_train, **fit_params)\n",
    "grid_cbc.best_params_"
   ]
  },
  {
   "cell_type": "code",
   "execution_count": 26,
   "id": "d1247ee0",
   "metadata": {
    "execution": {
     "iopub.execute_input": "2023-01-22T10:38:18.207626Z",
     "iopub.status.busy": "2023-01-22T10:38:18.207242Z",
     "iopub.status.idle": "2023-01-22T10:38:18.211982Z",
     "shell.execute_reply": "2023-01-22T10:38:18.211000Z"
    },
    "papermill": {
     "duration": 0.028354,
     "end_time": "2023-01-22T10:38:18.214168",
     "exception": false,
     "start_time": "2023-01-22T10:38:18.185814",
     "status": "completed"
    },
    "tags": []
   },
   "outputs": [],
   "source": [
    "params_cbc = {'learning_rate': 0.1, 'l2_leaf_reg': 6, 'iterations': 400, 'depth': 6}"
   ]
  },
  {
   "cell_type": "code",
   "execution_count": 27,
   "id": "5572e15d",
   "metadata": {
    "execution": {
     "iopub.execute_input": "2023-01-22T10:38:18.256560Z",
     "iopub.status.busy": "2023-01-22T10:38:18.256156Z",
     "iopub.status.idle": "2023-01-22T10:38:18.681678Z",
     "shell.execute_reply": "2023-01-22T10:38:18.680702Z"
    },
    "papermill": {
     "duration": 0.449637,
     "end_time": "2023-01-22T10:38:18.684420",
     "exception": false,
     "start_time": "2023-01-22T10:38:18.234783",
     "status": "completed"
    },
    "tags": []
   },
   "outputs": [],
   "source": [
    "# best_cbc = grid_cbc.best_estimator_\n",
    "best_cbc = CatBoostClassifier(random_state=random_state, auto_class_weights='Balanced', **params_cbc)\n",
    "best_cbc.fit(X_train, y_train, verbose=False)\n",
    "\n",
    "pred = best_cbc.predict(X_val)\n",
    "predict = best_cbc.predict_proba(X_val)[:, 1]"
   ]
  },
  {
   "cell_type": "code",
   "execution_count": 28,
   "id": "842a8ee8",
   "metadata": {
    "execution": {
     "iopub.execute_input": "2023-01-22T10:38:18.727592Z",
     "iopub.status.busy": "2023-01-22T10:38:18.726553Z",
     "iopub.status.idle": "2023-01-22T10:38:18.924661Z",
     "shell.execute_reply": "2023-01-22T10:38:18.923227Z"
    },
    "papermill": {
     "duration": 0.222075,
     "end_time": "2023-01-22T10:38:18.927211",
     "exception": false,
     "start_time": "2023-01-22T10:38:18.705136",
     "status": "completed"
    },
    "tags": []
   },
   "outputs": [
    {
     "data": {
      "image/png": "[encoded data removed]",
      "text/plain": [
       "<Figure size 576x576 with 1 Axes>"
      ]
     },
     "metadata": {
      "needs_background": "light"
     },
     "output_type": "display_data"
    },
    {
     "name": "stdout",
     "output_type": "stream",
     "text": [
      "ROC-AUC: 0.8922413793103448\n"
     ]
    }
   ],
   "source": [
    "roc_curve_make(y_val, predict)"
   ]
  },
  {
   "cell_type": "code",
   "execution_count": 29,
   "id": "dac51641",
   "metadata": {
    "execution": {
     "iopub.execute_input": "2023-01-22T10:38:18.970926Z",
     "iopub.status.busy": "2023-01-22T10:38:18.970519Z",
     "iopub.status.idle": "2023-01-22T10:38:19.038036Z",
     "shell.execute_reply": "2023-01-22T10:38:19.036901Z"
    },
    "papermill": {
     "duration": 0.092161,
     "end_time": "2023-01-22T10:38:19.040444",
     "exception": false,
     "start_time": "2023-01-22T10:38:18.948283",
     "status": "completed"
    },
    "tags": []
   },
   "outputs": [
    {
     "data": {
      "text/plain": [
       "(0.8565022421524664, 2, 0.5370391967468464)"
      ]
     },
     "execution_count": 29,
     "metadata": {},
     "output_type": "execute_result"
    }
   ],
   "source": [
    "from catboost.utils import get_roc_curve, select_threshold\n",
    "\n",
    "catboost_pool = Pool(X_train, y_train)\n",
    "roc_curve_values = get_roc_curve(best_cbc, catboost_pool)\n",
    "\n",
    "best_score = 0\n",
    "it = 0\n",
    "best_boundary = 0\n",
    "\n",
    "for i in range(1, 100, 1):\n",
    "    boundary = select_threshold(best_cbc, \n",
    "                            curve=roc_curve_values,  \n",
    "                            FPR=i/100)\n",
    "    predicted = (predict >= boundary)*1\n",
    "    if accuracy_score(predicted, y_val) > best_score:\n",
    "        best_score = accuracy_score(predicted, y_val)\n",
    "        it = i\n",
    "        best_boundary = boundary\n",
    "\n",
    "best_score, it, best_boundary"
   ]
  },
  {
   "cell_type": "code",
   "execution_count": 30,
   "id": "f89a217c",
   "metadata": {
    "execution": {
     "iopub.execute_input": "2023-01-22T10:38:19.084659Z",
     "iopub.status.busy": "2023-01-22T10:38:19.084258Z",
     "iopub.status.idle": "2023-01-22T10:38:19.090511Z",
     "shell.execute_reply": "2023-01-22T10:38:19.089386Z"
    },
    "papermill": {
     "duration": 0.030576,
     "end_time": "2023-01-22T10:38:19.092580",
     "exception": false,
     "start_time": "2023-01-22T10:38:19.062004",
     "status": "completed"
    },
    "tags": []
   },
   "outputs": [],
   "source": [
    "models_results['model'].append('CatBoost')\n",
    "models_results['accurasy'].append(accuracy_score((predict >= best_boundary)*1, y_val))"
   ]
  },
  {
   "cell_type": "code",
   "execution_count": 31,
   "id": "677d27c4",
   "metadata": {
    "execution": {
     "iopub.execute_input": "2023-01-22T10:38:19.136016Z",
     "iopub.status.busy": "2023-01-22T10:38:19.135620Z",
     "iopub.status.idle": "2023-01-22T10:38:19.151379Z",
     "shell.execute_reply": "2023-01-22T10:38:19.150332Z"
    },
    "papermill": {
     "duration": 0.040201,
     "end_time": "2023-01-22T10:38:19.153555",
     "exception": false,
     "start_time": "2023-01-22T10:38:19.113354",
     "status": "completed"
    },
    "tags": []
   },
   "outputs": [
    {
     "data": {
      "text/html": [
       "<style type=\"text/css\">\n",
       "#T_74178_row0_col1 {\n",
       "  background-color: #662506;\n",
       "  color: #f1f1f1;\n",
       "}\n",
       "#T_74178_row1_col1, #T_74178_row2_col1 {\n",
       "  background-color: #732905;\n",
       "  color: #f1f1f1;\n",
       "}\n",
       "#T_74178_row3_col1 {\n",
       "  background-color: #fee08a;\n",
       "  color: #000000;\n",
       "}\n",
       "#T_74178_row4_col1 {\n",
       "  background-color: #feeba2;\n",
       "  color: #000000;\n",
       "}\n",
       "#T_74178_row5_col1 {\n",
       "  background-color: #fff3b2;\n",
       "  color: #000000;\n",
       "}\n",
       "#T_74178_row6_col1 {\n",
       "  background-color: #fff5b8;\n",
       "  color: #000000;\n",
       "}\n",
       "#T_74178_row7_col1 {\n",
       "  background-color: #fff9c7;\n",
       "  color: #000000;\n",
       "}\n",
       "</style>\n",
       "<table id=\"T_74178_\">\n",
       "  <thead>\n",
       "    <tr>\n",
       "      <th class=\"blank level0\" >&nbsp;</th>\n",
       "      <th class=\"col_heading level0 col0\" >feature_name</th>\n",
       "      <th class=\"col_heading level0 col1\" >feature_score</th>\n",
       "    </tr>\n",
       "  </thead>\n",
       "  <tbody>\n",
       "    <tr>\n",
       "      <th id=\"T_74178_level0_row0\" class=\"row_heading level0 row0\" >0</th>\n",
       "      <td id=\"T_74178_row0_col0\" class=\"data row0 col0\" >fare</td>\n",
       "      <td id=\"T_74178_row0_col1\" class=\"data row0 col1\" >26.205244</td>\n",
       "    </tr>\n",
       "    <tr>\n",
       "      <th id=\"T_74178_level0_row1\" class=\"row_heading level0 row1\" >1</th>\n",
       "      <td id=\"T_74178_row1_col0\" class=\"data row1 col0\" >sex</td>\n",
       "      <td id=\"T_74178_row1_col1\" class=\"data row1 col1\" >25.364276</td>\n",
       "    </tr>\n",
       "    <tr>\n",
       "      <th id=\"T_74178_level0_row2\" class=\"row_heading level0 row2\" >2</th>\n",
       "      <td id=\"T_74178_row2_col0\" class=\"data row2 col0\" >age</td>\n",
       "      <td id=\"T_74178_row2_col1\" class=\"data row2 col1\" >25.319291</td>\n",
       "    </tr>\n",
       "    <tr>\n",
       "      <th id=\"T_74178_level0_row3\" class=\"row_heading level0 row3\" >3</th>\n",
       "      <td id=\"T_74178_row3_col0\" class=\"data row3 col0\" >pclass</td>\n",
       "      <td id=\"T_74178_row3_col1\" class=\"data row3 col1\" >7.056101</td>\n",
       "    </tr>\n",
       "    <tr>\n",
       "      <th id=\"T_74178_level0_row4\" class=\"row_heading level0 row4\" >4</th>\n",
       "      <td id=\"T_74178_row4_col0\" class=\"data row4 col0\" >sibsp</td>\n",
       "      <td id=\"T_74178_row4_col1\" class=\"data row4 col1\" >5.428073</td>\n",
       "    </tr>\n",
       "    <tr>\n",
       "      <th id=\"T_74178_level0_row5\" class=\"row_heading level0 row5\" >5</th>\n",
       "      <td id=\"T_74178_row5_col0\" class=\"data row5 col0\" >embarked</td>\n",
       "      <td id=\"T_74178_row5_col1\" class=\"data row5 col1\" >4.242596</td>\n",
       "    </tr>\n",
       "    <tr>\n",
       "      <th id=\"T_74178_level0_row6\" class=\"row_heading level0 row6\" >6</th>\n",
       "      <td id=\"T_74178_row6_col0\" class=\"data row6 col0\" >cabin</td>\n",
       "      <td id=\"T_74178_row6_col1\" class=\"data row6 col1\" >3.803638</td>\n",
       "    </tr>\n",
       "    <tr>\n",
       "      <th id=\"T_74178_level0_row7\" class=\"row_heading level0 row7\" >7</th>\n",
       "      <td id=\"T_74178_row7_col0\" class=\"data row7 col0\" >parch</td>\n",
       "      <td id=\"T_74178_row7_col1\" class=\"data row7 col1\" >2.580781</td>\n",
       "    </tr>\n",
       "  </tbody>\n",
       "</table>\n"
      ],
      "text/plain": [
       "<pandas.io.formats.style.Styler at 0x7f15d6451790>"
      ]
     },
     "execution_count": 31,
     "metadata": {},
     "output_type": "execute_result"
    }
   ],
   "source": [
    "cbc = pd.DataFrame({\n",
    "    'feature_name': best_cbc.feature_names_,\n",
    "    'feature_score': best_cbc.feature_importances_\n",
    "}).sort_values('feature_score', ascending=False).reset_index(drop=True)\n",
    "\n",
    "cbc.style.background_gradient(low=0.1, cmap='YlOrBr')"
   ]
  },
  {
   "cell_type": "markdown",
   "id": "7ccc2db8",
   "metadata": {
    "papermill": {
     "duration": 0.020825,
     "end_time": "2023-01-22T10:38:19.195374",
     "exception": false,
     "start_time": "2023-01-22T10:38:19.174549",
     "status": "completed"
    },
    "tags": []
   },
   "source": [
    "### <p style=\"background-color:#641216; font-family:Nexa; color:#e8f8f5; font-size:120%; text-align:left; border: 2.5px; border-style:solid; border-color:#210400; border-radius: 5px 5px;\">4.2. LGBM</p>"
   ]
  },
  {
   "cell_type": "code",
   "execution_count": 32,
   "id": "4f00ebc8",
   "metadata": {
    "execution": {
     "iopub.execute_input": "2023-01-22T10:38:19.239235Z",
     "iopub.status.busy": "2023-01-22T10:38:19.238765Z",
     "iopub.status.idle": "2023-01-22T10:38:19.243172Z",
     "shell.execute_reply": "2023-01-22T10:38:19.242387Z"
    },
    "jupyter": {
     "source_hidden": true
    },
    "papermill": {
     "duration": 0.028618,
     "end_time": "2023-01-22T10:38:19.245055",
     "exception": false,
     "start_time": "2023-01-22T10:38:19.216437",
     "status": "completed"
    },
    "tags": []
   },
   "outputs": [],
   "source": [
    "# fit_params = dict(early_stopping_rounds = 20,\n",
    "#                   eval_set = [(X_train, y_train), (X_val, y_val)], \n",
    "#                   verbose = 1000)\n",
    "# params = {'n_estimators': range(20, 1001, 20),\n",
    "#           'learning_rate': [0.005, 0.01, 0.1],\n",
    "#           'max_depth': range(-1, 36, 1),\n",
    "#           'num_leaves': range(1, 200, 1),\n",
    "#           'boosting_type': ['gbdt', 'dart', 'goss']       \n",
    "#          }\n",
    "# lgbm = LGBMClassifier(random_state=random_state, class_weight='balanced')\n",
    "# grid_lgbm = RandomizedSearchCV(lgbm, params, scoring='accuracy', cv=5)\n",
    "# grid_lgbm.fit(X_train, y_train, **fit_params)\n",
    "# grid_lgbm.best_params_"
   ]
  },
  {
   "cell_type": "code",
   "execution_count": 33,
   "id": "b9f45a15",
   "metadata": {
    "execution": {
     "iopub.execute_input": "2023-01-22T10:38:19.289395Z",
     "iopub.status.busy": "2023-01-22T10:38:19.288310Z",
     "iopub.status.idle": "2023-01-22T10:38:19.293734Z",
     "shell.execute_reply": "2023-01-22T10:38:19.292713Z"
    },
    "papermill": {
     "duration": 0.029911,
     "end_time": "2023-01-22T10:38:19.295978",
     "exception": false,
     "start_time": "2023-01-22T10:38:19.266067",
     "status": "completed"
    },
    "tags": []
   },
   "outputs": [],
   "source": [
    "params_lgbm = {'num_leaves': 181, 'n_estimators': 340, 'max_depth': 8,\n",
    "                         'learning_rate': 0.1, 'boosting_type': 'dart'}"
   ]
  },
  {
   "cell_type": "code",
   "execution_count": 34,
   "id": "a7126cba",
   "metadata": {
    "execution": {
     "iopub.execute_input": "2023-01-22T10:38:19.339950Z",
     "iopub.status.busy": "2023-01-22T10:38:19.339267Z",
     "iopub.status.idle": "2023-01-22T10:38:20.862258Z",
     "shell.execute_reply": "2023-01-22T10:38:20.861208Z"
    },
    "papermill": {
     "duration": 1.548551,
     "end_time": "2023-01-22T10:38:20.865643",
     "exception": false,
     "start_time": "2023-01-22T10:38:19.317092",
     "status": "completed"
    },
    "tags": []
   },
   "outputs": [],
   "source": [
    "# best_lgbm = grid_lgbm.best_estimator_\n",
    "best_lgbm = LGBMClassifier(random_state=random_state, class_weight='balanced', **params_lgbm)\n",
    "best_lgbm.fit(X_train, y_train)\n",
    "pred = best_lgbm.predict(X_val)\n",
    "predict = best_lgbm.predict_proba(X_val)[:,1]"
   ]
  },
  {
   "cell_type": "code",
   "execution_count": 35,
   "id": "861242ec",
   "metadata": {
    "execution": {
     "iopub.execute_input": "2023-01-22T10:38:20.910682Z",
     "iopub.status.busy": "2023-01-22T10:38:20.910296Z",
     "iopub.status.idle": "2023-01-22T10:38:21.102767Z",
     "shell.execute_reply": "2023-01-22T10:38:21.101693Z"
    },
    "papermill": {
     "duration": 0.218208,
     "end_time": "2023-01-22T10:38:21.105550",
     "exception": false,
     "start_time": "2023-01-22T10:38:20.887342",
     "status": "completed"
    },
    "tags": []
   },
   "outputs": [
    {
     "data": {
      "image/png": "[encoded data removed]",
      "text/plain": [
       "<Figure size 576x576 with 1 Axes>"
      ]
     },
     "metadata": {
      "needs_background": "light"
     },
     "output_type": "display_data"
    },
    {
     "name": "stdout",
     "output_type": "stream",
     "text": [
      "ROC-AUC: 0.888184584178499\n"
     ]
    }
   ],
   "source": [
    "roc_curve_make(y_val, predict)"
   ]
  },
  {
   "cell_type": "code",
   "execution_count": 36,
   "id": "01af1c47",
   "metadata": {
    "execution": {
     "iopub.execute_input": "2023-01-22T10:38:21.156936Z",
     "iopub.status.busy": "2023-01-22T10:38:21.156536Z",
     "iopub.status.idle": "2023-01-22T10:38:21.202887Z",
     "shell.execute_reply": "2023-01-22T10:38:21.201609Z"
    },
    "papermill": {
     "duration": 0.075557,
     "end_time": "2023-01-22T10:38:21.206300",
     "exception": false,
     "start_time": "2023-01-22T10:38:21.130743",
     "status": "completed"
    },
    "tags": []
   },
   "outputs": [
    {
     "data": {
      "text/plain": [
       "(0.8430493273542601, 58, 0.58)"
      ]
     },
     "execution_count": 36,
     "metadata": {},
     "output_type": "execute_result"
    }
   ],
   "source": [
    "best_score = 0\n",
    "it = 0\n",
    "best_boundary_lgbm = 0\n",
    "\n",
    "for i in range(1, 100, 1):\n",
    "    boundary = i/100\n",
    "    predicted = (predict >= boundary)*1\n",
    "    if accuracy_score(predicted, y_val) > best_score:\n",
    "        best_score = accuracy_score(predicted, y_val)\n",
    "        it = i\n",
    "        best_boundary_lgbm = boundary\n",
    "\n",
    "best_score, it, best_boundary_lgbm"
   ]
  },
  {
   "cell_type": "code",
   "execution_count": 37,
   "id": "f6c9b803",
   "metadata": {
    "execution": {
     "iopub.execute_input": "2023-01-22T10:38:21.252559Z",
     "iopub.status.busy": "2023-01-22T10:38:21.252119Z",
     "iopub.status.idle": "2023-01-22T10:38:21.258829Z",
     "shell.execute_reply": "2023-01-22T10:38:21.257694Z"
    },
    "papermill": {
     "duration": 0.032148,
     "end_time": "2023-01-22T10:38:21.261106",
     "exception": false,
     "start_time": "2023-01-22T10:38:21.228958",
     "status": "completed"
    },
    "tags": []
   },
   "outputs": [],
   "source": [
    "models_results['model'].append('LGBM')\n",
    "models_results['accurasy'].append(accuracy_score((predict>=best_boundary_lgbm)*1, y_val))"
   ]
  },
  {
   "cell_type": "code",
   "execution_count": 38,
   "id": "937080f3",
   "metadata": {
    "execution": {
     "iopub.execute_input": "2023-01-22T10:38:21.306133Z",
     "iopub.status.busy": "2023-01-22T10:38:21.305752Z",
     "iopub.status.idle": "2023-01-22T10:38:21.322750Z",
     "shell.execute_reply": "2023-01-22T10:38:21.321667Z"
    },
    "papermill": {
     "duration": 0.042365,
     "end_time": "2023-01-22T10:38:21.325284",
     "exception": false,
     "start_time": "2023-01-22T10:38:21.282919",
     "status": "completed"
    },
    "tags": []
   },
   "outputs": [
    {
     "data": {
      "text/html": [
       "<style type=\"text/css\">\n",
       "#T_f531e_row0_col1 {\n",
       "  background-color: #662506;\n",
       "  color: #f1f1f1;\n",
       "}\n",
       "#T_f531e_row1_col1 {\n",
       "  background-color: #782a05;\n",
       "  color: #f1f1f1;\n",
       "}\n",
       "#T_f531e_row2_col1 {\n",
       "  background-color: #ffefac;\n",
       "  color: #000000;\n",
       "}\n",
       "#T_f531e_row3_col1 {\n",
       "  background-color: #fff2b1;\n",
       "  color: #000000;\n",
       "}\n",
       "#T_f531e_row4_col1 {\n",
       "  background-color: #fff3b4;\n",
       "  color: #000000;\n",
       "}\n",
       "#T_f531e_row5_col1 {\n",
       "  background-color: #fff4b5;\n",
       "  color: #000000;\n",
       "}\n",
       "#T_f531e_row6_col1 {\n",
       "  background-color: #fff6ba;\n",
       "  color: #000000;\n",
       "}\n",
       "#T_f531e_row7_col1 {\n",
       "  background-color: #fff9c7;\n",
       "  color: #000000;\n",
       "}\n",
       "</style>\n",
       "<table id=\"T_f531e_\">\n",
       "  <thead>\n",
       "    <tr>\n",
       "      <th class=\"blank level0\" >&nbsp;</th>\n",
       "      <th class=\"col_heading level0 col0\" >feature_name</th>\n",
       "      <th class=\"col_heading level0 col1\" >feature_score</th>\n",
       "    </tr>\n",
       "  </thead>\n",
       "  <tbody>\n",
       "    <tr>\n",
       "      <th id=\"T_f531e_level0_row0\" class=\"row_heading level0 row0\" >0</th>\n",
       "      <td id=\"T_f531e_row0_col0\" class=\"data row0 col0\" >fare</td>\n",
       "      <td id=\"T_f531e_row0_col1\" class=\"data row0 col1\" >2812</td>\n",
       "    </tr>\n",
       "    <tr>\n",
       "      <th id=\"T_f531e_level0_row1\" class=\"row_heading level0 row1\" >1</th>\n",
       "      <td id=\"T_f531e_row1_col0\" class=\"data row1 col0\" >age</td>\n",
       "      <td id=\"T_f531e_row1_col1\" class=\"data row1 col1\" >2680</td>\n",
       "    </tr>\n",
       "    <tr>\n",
       "      <th id=\"T_f531e_level0_row2\" class=\"row_heading level0 row2\" >2</th>\n",
       "      <td id=\"T_f531e_row2_col0\" class=\"data row2 col0\" >pclass</td>\n",
       "      <td id=\"T_f531e_row2_col1\" class=\"data row2 col1\" >371</td>\n",
       "    </tr>\n",
       "    <tr>\n",
       "      <th id=\"T_f531e_level0_row3\" class=\"row_heading level0 row3\" >3</th>\n",
       "      <td id=\"T_f531e_row3_col0\" class=\"data row3 col0\" >sibsp</td>\n",
       "      <td id=\"T_f531e_row3_col1\" class=\"data row3 col1\" >333</td>\n",
       "    </tr>\n",
       "    <tr>\n",
       "      <th id=\"T_f531e_level0_row4\" class=\"row_heading level0 row4\" >4</th>\n",
       "      <td id=\"T_f531e_row4_col0\" class=\"data row4 col0\" >sex</td>\n",
       "      <td id=\"T_f531e_row4_col1\" class=\"data row4 col1\" >305</td>\n",
       "    </tr>\n",
       "    <tr>\n",
       "      <th id=\"T_f531e_level0_row5\" class=\"row_heading level0 row5\" >5</th>\n",
       "      <td id=\"T_f531e_row5_col0\" class=\"data row5 col0\" >embarked</td>\n",
       "      <td id=\"T_f531e_row5_col1\" class=\"data row5 col1\" >297</td>\n",
       "    </tr>\n",
       "    <tr>\n",
       "      <th id=\"T_f531e_level0_row6\" class=\"row_heading level0 row6\" >6</th>\n",
       "      <td id=\"T_f531e_row6_col0\" class=\"data row6 col0\" >cabin</td>\n",
       "      <td id=\"T_f531e_row6_col1\" class=\"data row6 col1\" >247</td>\n",
       "    </tr>\n",
       "    <tr>\n",
       "      <th id=\"T_f531e_level0_row7\" class=\"row_heading level0 row7\" >7</th>\n",
       "      <td id=\"T_f531e_row7_col0\" class=\"data row7 col0\" >parch</td>\n",
       "      <td id=\"T_f531e_row7_col1\" class=\"data row7 col1\" >129</td>\n",
       "    </tr>\n",
       "  </tbody>\n",
       "</table>\n"
      ],
      "text/plain": [
       "<pandas.io.formats.style.Styler at 0x7f15d6475c10>"
      ]
     },
     "execution_count": 38,
     "metadata": {},
     "output_type": "execute_result"
    }
   ],
   "source": [
    "lgb = pd.DataFrame({\n",
    "    'feature_name': best_lgbm.feature_name_,\n",
    "    'feature_score': best_lgbm.feature_importances_\n",
    "}).sort_values('feature_score', ascending=False).reset_index(drop=True)\n",
    "\n",
    "lgb.style.background_gradient(low=0.1, cmap='YlOrBr')"
   ]
  },
  {
   "cell_type": "markdown",
   "id": "a0e0b54b",
   "metadata": {
    "papermill": {
     "duration": 0.02163,
     "end_time": "2023-01-22T10:38:21.369061",
     "exception": false,
     "start_time": "2023-01-22T10:38:21.347431",
     "status": "completed"
    },
    "tags": []
   },
   "source": [
    "### <p style=\"background-color:#641216; font-family:Nexa; color:#e8f8f5; font-size:120%; text-align:left; border: 2.5px; border-style:solid; border-color:#210400; border-radius: 5px 5px;\">4.3. RandomForestClassifier</p>"
   ]
  },
  {
   "cell_type": "code",
   "execution_count": 39,
   "id": "e99a5941",
   "metadata": {
    "execution": {
     "iopub.execute_input": "2023-01-22T10:38:21.414818Z",
     "iopub.status.busy": "2023-01-22T10:38:21.414194Z",
     "iopub.status.idle": "2023-01-22T10:38:21.418542Z",
     "shell.execute_reply": "2023-01-22T10:38:21.417619Z"
    },
    "jupyter": {
     "source_hidden": true
    },
    "papermill": {
     "duration": 0.029749,
     "end_time": "2023-01-22T10:38:21.420880",
     "exception": false,
     "start_time": "2023-01-22T10:38:21.391131",
     "status": "completed"
    },
    "tags": []
   },
   "outputs": [],
   "source": [
    "# rfc = RandomForestClassifier(random_state=random_state, class_weight='balanced')\n",
    "\n",
    "# params = {'n_estimators': range(100, 1001, 100),\n",
    "#           'max_depth': range(1, 24, 1),\n",
    "#           'min_samples_split': range(1,10,1),\n",
    "#           'min_samples_leaf': range(1,10,1)\n",
    "#          }\n",
    "\n",
    "# grid_cv = RandomizedSearchCV(rfc, params, scoring='accuracy', cv=5)\n",
    "# grid_cv.fit(X_train, y_train)\n",
    "# grid_cv.best_params_"
   ]
  },
  {
   "cell_type": "code",
   "execution_count": 40,
   "id": "7b4d9b43",
   "metadata": {
    "execution": {
     "iopub.execute_input": "2023-01-22T10:38:21.467427Z",
     "iopub.status.busy": "2023-01-22T10:38:21.466796Z",
     "iopub.status.idle": "2023-01-22T10:38:21.471684Z",
     "shell.execute_reply": "2023-01-22T10:38:21.470646Z"
    },
    "papermill": {
     "duration": 0.030759,
     "end_time": "2023-01-22T10:38:21.474136",
     "exception": false,
     "start_time": "2023-01-22T10:38:21.443377",
     "status": "completed"
    },
    "tags": []
   },
   "outputs": [],
   "source": [
    "params_rfc = {'n_estimators': 900, 'min_samples_split': 9, 'min_samples_leaf': 3, 'max_depth': 9}"
   ]
  },
  {
   "cell_type": "code",
   "execution_count": 41,
   "id": "4bd93b24",
   "metadata": {
    "execution": {
     "iopub.execute_input": "2023-01-22T10:38:21.520639Z",
     "iopub.status.busy": "2023-01-22T10:38:21.520275Z",
     "iopub.status.idle": "2023-01-22T10:38:23.171843Z",
     "shell.execute_reply": "2023-01-22T10:38:23.170625Z"
    },
    "papermill": {
     "duration": 1.677771,
     "end_time": "2023-01-22T10:38:23.174605",
     "exception": false,
     "start_time": "2023-01-22T10:38:21.496834",
     "status": "completed"
    },
    "tags": []
   },
   "outputs": [],
   "source": [
    "# best_rfc = grid_cv.best_estimator_\n",
    "best_rfc = RandomForestClassifier(random_state=random_state, class_weight='balanced', **params_rfc)\n",
    "best_rfc.fit(X_train, y_train)\n",
    "pred = best_rfc.predict(X_val)\n",
    "predict = best_rfc.predict_proba(X_val)[:,1]"
   ]
  },
  {
   "cell_type": "code",
   "execution_count": 42,
   "id": "d601d406",
   "metadata": {
    "execution": {
     "iopub.execute_input": "2023-01-22T10:38:23.221415Z",
     "iopub.status.busy": "2023-01-22T10:38:23.221001Z",
     "iopub.status.idle": "2023-01-22T10:38:23.414381Z",
     "shell.execute_reply": "2023-01-22T10:38:23.413032Z"
    },
    "papermill": {
     "duration": 0.219566,
     "end_time": "2023-01-22T10:38:23.416756",
     "exception": false,
     "start_time": "2023-01-22T10:38:23.197190",
     "status": "completed"
    },
    "tags": []
   },
   "outputs": [
    {
     "data": {
      "image/png": "[encoded data removed]",
      "text/plain": [
       "<Figure size 576x576 with 1 Axes>"
      ]
     },
     "metadata": {
      "needs_background": "light"
     },
     "output_type": "display_data"
    },
    {
     "name": "stdout",
     "output_type": "stream",
     "text": [
      "ROC-AUC: 0.886663286004057\n"
     ]
    }
   ],
   "source": [
    "roc_curve_make(y_val, predict)"
   ]
  },
  {
   "cell_type": "code",
   "execution_count": 43,
   "id": "470c9dff",
   "metadata": {
    "execution": {
     "iopub.execute_input": "2023-01-22T10:38:23.464134Z",
     "iopub.status.busy": "2023-01-22T10:38:23.463130Z",
     "iopub.status.idle": "2023-01-22T10:38:23.498803Z",
     "shell.execute_reply": "2023-01-22T10:38:23.497750Z"
    },
    "papermill": {
     "duration": 0.061711,
     "end_time": "2023-01-22T10:38:23.501089",
     "exception": false,
     "start_time": "2023-01-22T10:38:23.439378",
     "status": "completed"
    },
    "tags": []
   },
   "outputs": [
    {
     "data": {
      "text/plain": [
       "(0.8251121076233184, 36, 0.36)"
      ]
     },
     "execution_count": 43,
     "metadata": {},
     "output_type": "execute_result"
    }
   ],
   "source": [
    "best_score = 0\n",
    "it = 0\n",
    "best_boundary_rfc = 0\n",
    "\n",
    "for i in range(1, 100, 1):\n",
    "    boundary = i/100\n",
    "    predicted = (predict >= boundary)*1\n",
    "    if accuracy_score(predicted, y_val) > best_score:\n",
    "        best_score = accuracy_score(predicted, y_val)\n",
    "        it = i\n",
    "        best_boundary_rfc = boundary\n",
    "\n",
    "best_score, it, best_boundary_rfc"
   ]
  },
  {
   "cell_type": "code",
   "execution_count": 44,
   "id": "a790855a",
   "metadata": {
    "execution": {
     "iopub.execute_input": "2023-01-22T10:38:23.548206Z",
     "iopub.status.busy": "2023-01-22T10:38:23.547818Z",
     "iopub.status.idle": "2023-01-22T10:38:23.552896Z",
     "shell.execute_reply": "2023-01-22T10:38:23.552139Z"
    },
    "papermill": {
     "duration": 0.030965,
     "end_time": "2023-01-22T10:38:23.554926",
     "exception": false,
     "start_time": "2023-01-22T10:38:23.523961",
     "status": "completed"
    },
    "tags": []
   },
   "outputs": [],
   "source": [
    "models_results['model'].append('RandomForest')\n",
    "models_results['accurasy'].append(accuracy_score((predict>=best_boundary_rfc)*1, y_val))"
   ]
  },
  {
   "cell_type": "code",
   "execution_count": 45,
   "id": "838e120b",
   "metadata": {
    "execution": {
     "iopub.execute_input": "2023-01-22T10:38:23.602035Z",
     "iopub.status.busy": "2023-01-22T10:38:23.601453Z",
     "iopub.status.idle": "2023-01-22T10:38:23.889812Z",
     "shell.execute_reply": "2023-01-22T10:38:23.888829Z"
    },
    "papermill": {
     "duration": 0.314795,
     "end_time": "2023-01-22T10:38:23.892367",
     "exception": false,
     "start_time": "2023-01-22T10:38:23.577572",
     "status": "completed"
    },
    "tags": []
   },
   "outputs": [
    {
     "data": {
      "text/html": [
       "<style type=\"text/css\">\n",
       "#T_6247e_row0_col1 {\n",
       "  background-color: #662506;\n",
       "  color: #f1f1f1;\n",
       "}\n",
       "#T_6247e_row1_col1 {\n",
       "  background-color: #782a05;\n",
       "  color: #f1f1f1;\n",
       "}\n",
       "#T_6247e_row2_col1 {\n",
       "  background-color: #ffefac;\n",
       "  color: #000000;\n",
       "}\n",
       "#T_6247e_row3_col1 {\n",
       "  background-color: #fff2b1;\n",
       "  color: #000000;\n",
       "}\n",
       "#T_6247e_row4_col1 {\n",
       "  background-color: #fff3b4;\n",
       "  color: #000000;\n",
       "}\n",
       "#T_6247e_row5_col1 {\n",
       "  background-color: #fff4b5;\n",
       "  color: #000000;\n",
       "}\n",
       "#T_6247e_row6_col1 {\n",
       "  background-color: #fff6ba;\n",
       "  color: #000000;\n",
       "}\n",
       "#T_6247e_row7_col1 {\n",
       "  background-color: #fff9c7;\n",
       "  color: #000000;\n",
       "}\n",
       "</style>\n",
       "<table id=\"T_6247e_\">\n",
       "  <thead>\n",
       "    <tr>\n",
       "      <th class=\"blank level0\" >&nbsp;</th>\n",
       "      <th class=\"col_heading level0 col0\" >feature_name</th>\n",
       "      <th class=\"col_heading level0 col1\" >feature_score</th>\n",
       "    </tr>\n",
       "  </thead>\n",
       "  <tbody>\n",
       "    <tr>\n",
       "      <th id=\"T_6247e_level0_row0\" class=\"row_heading level0 row0\" >0</th>\n",
       "      <td id=\"T_6247e_row0_col0\" class=\"data row0 col0\" >fare</td>\n",
       "      <td id=\"T_6247e_row0_col1\" class=\"data row0 col1\" >2812</td>\n",
       "    </tr>\n",
       "    <tr>\n",
       "      <th id=\"T_6247e_level0_row1\" class=\"row_heading level0 row1\" >1</th>\n",
       "      <td id=\"T_6247e_row1_col0\" class=\"data row1 col0\" >age</td>\n",
       "      <td id=\"T_6247e_row1_col1\" class=\"data row1 col1\" >2680</td>\n",
       "    </tr>\n",
       "    <tr>\n",
       "      <th id=\"T_6247e_level0_row2\" class=\"row_heading level0 row2\" >2</th>\n",
       "      <td id=\"T_6247e_row2_col0\" class=\"data row2 col0\" >pclass</td>\n",
       "      <td id=\"T_6247e_row2_col1\" class=\"data row2 col1\" >371</td>\n",
       "    </tr>\n",
       "    <tr>\n",
       "      <th id=\"T_6247e_level0_row3\" class=\"row_heading level0 row3\" >3</th>\n",
       "      <td id=\"T_6247e_row3_col0\" class=\"data row3 col0\" >sibsp</td>\n",
       "      <td id=\"T_6247e_row3_col1\" class=\"data row3 col1\" >333</td>\n",
       "    </tr>\n",
       "    <tr>\n",
       "      <th id=\"T_6247e_level0_row4\" class=\"row_heading level0 row4\" >4</th>\n",
       "      <td id=\"T_6247e_row4_col0\" class=\"data row4 col0\" >sex</td>\n",
       "      <td id=\"T_6247e_row4_col1\" class=\"data row4 col1\" >305</td>\n",
       "    </tr>\n",
       "    <tr>\n",
       "      <th id=\"T_6247e_level0_row5\" class=\"row_heading level0 row5\" >5</th>\n",
       "      <td id=\"T_6247e_row5_col0\" class=\"data row5 col0\" >embarked</td>\n",
       "      <td id=\"T_6247e_row5_col1\" class=\"data row5 col1\" >297</td>\n",
       "    </tr>\n",
       "    <tr>\n",
       "      <th id=\"T_6247e_level0_row6\" class=\"row_heading level0 row6\" >6</th>\n",
       "      <td id=\"T_6247e_row6_col0\" class=\"data row6 col0\" >cabin</td>\n",
       "      <td id=\"T_6247e_row6_col1\" class=\"data row6 col1\" >247</td>\n",
       "    </tr>\n",
       "    <tr>\n",
       "      <th id=\"T_6247e_level0_row7\" class=\"row_heading level0 row7\" >7</th>\n",
       "      <td id=\"T_6247e_row7_col0\" class=\"data row7 col0\" >parch</td>\n",
       "      <td id=\"T_6247e_row7_col1\" class=\"data row7 col1\" >129</td>\n",
       "    </tr>\n",
       "  </tbody>\n",
       "</table>\n"
      ],
      "text/plain": [
       "<pandas.io.formats.style.Styler at 0x7f15e26b5b50>"
      ]
     },
     "execution_count": 45,
     "metadata": {},
     "output_type": "execute_result"
    }
   ],
   "source": [
    "rfc = pd.DataFrame({\n",
    "    'feature_name': best_rfc.feature_names_in_,\n",
    "    'feature_score': best_rfc.feature_importances_\n",
    "}).sort_values('feature_score', ascending=False).reset_index(drop=True)\n",
    "\n",
    "lgb.style.background_gradient(low=0.1, cmap='YlOrBr')"
   ]
  },
  {
   "cell_type": "markdown",
   "id": "ed2faf01",
   "metadata": {
    "papermill": {
     "duration": 0.024865,
     "end_time": "2023-01-22T10:38:23.941174",
     "exception": false,
     "start_time": "2023-01-22T10:38:23.916309",
     "status": "completed"
    },
    "tags": []
   },
   "source": [
    "### <p style=\"background-color:#641216; font-family:Nexa; color:#e8f8f5; font-size:120%; text-align:left; border: 2.5px; border-style:solid; border-color:#210400; border-radius: 5px 5px;\">4.4. Ensemble</p>"
   ]
  },
  {
   "cell_type": "code",
   "execution_count": 46,
   "id": "55785065",
   "metadata": {
    "execution": {
     "iopub.execute_input": "2023-01-22T10:38:23.989257Z",
     "iopub.status.busy": "2023-01-22T10:38:23.988826Z",
     "iopub.status.idle": "2023-01-22T10:38:26.497756Z",
     "shell.execute_reply": "2023-01-22T10:38:26.496648Z"
    },
    "papermill": {
     "duration": 2.536095,
     "end_time": "2023-01-22T10:38:26.500596",
     "exception": false,
     "start_time": "2023-01-22T10:38:23.964501",
     "status": "completed"
    },
    "tags": []
   },
   "outputs": [],
   "source": [
    "best_cbc.fit(X_train, y_train, verbose=False)\n",
    "best_lgbm.fit(X_train, y_train, verbose=False)\n",
    "best_rfc.fit(X_train, y_train)\n",
    "ens_pred_prob = (np.column_stack([best_cbc.predict_proba(X_val)[:,1], \n",
    "                                 best_rfc.predict_proba(X_val)[:,1],\n",
    "                                 best_lgbm.predict_proba(X_val)[:,1]]\n",
    "                               ).mean(axis=1) >=0.5\n",
    "                )*1\n",
    "models_results['model'].append('Ensemble')\n",
    "models_results['accurasy'].append(accuracy_score(ens_pred_prob, y_val))"
   ]
  },
  {
   "cell_type": "markdown",
   "id": "708d8b05",
   "metadata": {
    "papermill": {
     "duration": 0.022694,
     "end_time": "2023-01-22T10:38:26.546569",
     "exception": false,
     "start_time": "2023-01-22T10:38:26.523875",
     "status": "completed"
    },
    "tags": []
   },
   "source": [
    "## <p style=\"background-color:#641216; font-family:Nexa; color:#e8f8f5; font-size:150%; text-align:center; border: 2.5px; border-style:solid; border-color:#210400; border-radius: 25px 5px;\">5. Best Model Submission</p>"
   ]
  },
  {
   "cell_type": "code",
   "execution_count": 47,
   "id": "084b9892",
   "metadata": {
    "execution": {
     "iopub.execute_input": "2023-01-22T10:38:26.594138Z",
     "iopub.status.busy": "2023-01-22T10:38:26.593723Z",
     "iopub.status.idle": "2023-01-22T10:38:26.609435Z",
     "shell.execute_reply": "2023-01-22T10:38:26.608047Z"
    },
    "papermill": {
     "duration": 0.042248,
     "end_time": "2023-01-22T10:38:26.611785",
     "exception": false,
     "start_time": "2023-01-22T10:38:26.569537",
     "status": "completed"
    },
    "tags": []
   },
   "outputs": [
    {
     "data": {
      "text/html": [
       "<style type=\"text/css\">\n",
       "#T_7586e_row0_col1 {\n",
       "  background-color: #662506;\n",
       "  color: #f1f1f1;\n",
       "}\n",
       "#T_7586e_row1_col1 {\n",
       "  background-color: #ee7416;\n",
       "  color: #f1f1f1;\n",
       "}\n",
       "#T_7586e_row2_col1 {\n",
       "  background-color: #fe9f2e;\n",
       "  color: #000000;\n",
       "}\n",
       "#T_7586e_row3_col1 {\n",
       "  background-color: #fff9c7;\n",
       "  color: #000000;\n",
       "}\n",
       "</style>\n",
       "<table id=\"T_7586e_\">\n",
       "  <thead>\n",
       "    <tr>\n",
       "      <th class=\"blank level0\" >&nbsp;</th>\n",
       "      <th class=\"col_heading level0 col0\" >model</th>\n",
       "      <th class=\"col_heading level0 col1\" >accurasy</th>\n",
       "    </tr>\n",
       "  </thead>\n",
       "  <tbody>\n",
       "    <tr>\n",
       "      <th id=\"T_7586e_level0_row0\" class=\"row_heading level0 row0\" >0</th>\n",
       "      <td id=\"T_7586e_row0_col0\" class=\"data row0 col0\" >CatBoost</td>\n",
       "      <td id=\"T_7586e_row0_col1\" class=\"data row0 col1\" >0.856502</td>\n",
       "    </tr>\n",
       "    <tr>\n",
       "      <th id=\"T_7586e_level0_row1\" class=\"row_heading level0 row1\" >1</th>\n",
       "      <td id=\"T_7586e_row1_col0\" class=\"data row1 col0\" >LGBM</td>\n",
       "      <td id=\"T_7586e_row1_col1\" class=\"data row1 col1\" >0.843049</td>\n",
       "    </tr>\n",
       "    <tr>\n",
       "      <th id=\"T_7586e_level0_row2\" class=\"row_heading level0 row2\" >3</th>\n",
       "      <td id=\"T_7586e_row2_col0\" class=\"data row2 col0\" >Ensemble</td>\n",
       "      <td id=\"T_7586e_row2_col1\" class=\"data row2 col1\" >0.838565</td>\n",
       "    </tr>\n",
       "    <tr>\n",
       "      <th id=\"T_7586e_level0_row3\" class=\"row_heading level0 row3\" >2</th>\n",
       "      <td id=\"T_7586e_row3_col0\" class=\"data row3 col0\" >RandomForest</td>\n",
       "      <td id=\"T_7586e_row3_col1\" class=\"data row3 col1\" >0.825112</td>\n",
       "    </tr>\n",
       "  </tbody>\n",
       "</table>\n"
      ],
      "text/plain": [
       "<pandas.io.formats.style.Styler at 0x7f1647fd8e10>"
      ]
     },
     "execution_count": 47,
     "metadata": {},
     "output_type": "execute_result"
    }
   ],
   "source": [
    "pd.DataFrame(data=models_results).sort_values('accurasy', ascending=False).style.background_gradient(low=0.1, cmap='YlOrBr')"
   ]
  },
  {
   "cell_type": "code",
   "execution_count": 48,
   "id": "e7d0e8bc",
   "metadata": {
    "execution": {
     "iopub.execute_input": "2023-01-22T10:38:26.660085Z",
     "iopub.status.busy": "2023-01-22T10:38:26.659700Z",
     "iopub.status.idle": "2023-01-22T10:38:27.149556Z",
     "shell.execute_reply": "2023-01-22T10:38:27.148425Z"
    },
    "papermill": {
     "duration": 0.517078,
     "end_time": "2023-01-22T10:38:27.152398",
     "exception": false,
     "start_time": "2023-01-22T10:38:26.635320",
     "status": "completed"
    },
    "tags": []
   },
   "outputs": [],
   "source": [
    "best_cbc.fit(X_df_pl, y_df, verbose=False)\n",
    "submission['Survived'] = (best_cbc.predict_proba(X_test_pl)[:,1] >= best_boundary)*1\n",
    "submission.to_csv('submission.csv', index = False)"
   ]
  }
 ],
 "metadata": {
  "kernelspec": {
   "display_name": "Python 3",
   "language": "python",
   "name": "python3"
  },
  "language_info": {
   "codemirror_mode": {
    "name": "ipython",
    "version": 3
   },
   "file_extension": ".py",
   "mimetype": "text/x-python",
   "name": "python",
   "nbconvert_exporter": "python",
   "pygments_lexer": "ipython3",
   "version": "3.7.12"
  },
  "papermill": {
   "default_parameters": {},
   "duration": 64.89179,
   "end_time": "2023-01-22T10:38:29.797862",
   "environment_variables": {},
   "exception": null,
   "input_path": "__notebook__.ipynb",
   "output_path": "__notebook__.ipynb",
   "parameters": {},
   "start_time": "2023-01-22T10:37:24.906072",
   "version": "2.3.4"
  }
 },
 "nbformat": 4,
 "nbformat_minor": 5
}
